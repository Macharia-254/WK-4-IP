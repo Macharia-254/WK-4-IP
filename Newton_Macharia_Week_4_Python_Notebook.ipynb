{
  "nbformat": 4,
  "nbformat_minor": 0,
  "metadata": {
    "colab": {
      "name": "Newton Macharia Week 4 Python Notebook.ipynb",
      "provenance": [],
      "authorship_tag": "ABX9TyMC7FRu0NUBj8Xbr+CcR3/G",
      "include_colab_link": true
    },
    "kernelspec": {
      "name": "python3",
      "display_name": "Python 3"
    }
  },
  "cells": [
    {
      "cell_type": "markdown",
      "metadata": {
        "id": "view-in-github",
        "colab_type": "text"
      },
      "source": [
        "<a href=\"https://colab.research.google.com/github/Macharia-254/WK-4-IP/blob/main/Newton_Macharia_Week_4_Python_Notebook.ipynb\" target=\"_parent\"><img src=\"https://colab.research.google.com/assets/colab-badge.svg\" alt=\"Open In Colab\"/></a>"
      ]
    },
    {
      "cell_type": "markdown",
      "metadata": {
        "id": "tCTEn1TF_pSi"
      },
      "source": [
        "## *Week 4 Independent Project*\r\n",
        "As a data scientist working for an electric car-sharing service company, I have been tasked to process stations data to understand electric car usage over time by finding answers to the analysis questions above. The main reseach question being to identify the most popular hour of the day for picking up a shared electric car (Bluecar) in the city of Paris over the month of April 2018."
      ]
    },
    {
      "cell_type": "code",
      "metadata": {
        "id": "26B-8HD16M3p"
      },
      "source": [
        "#Loadong the libraries we will be using for analysis\r\n",
        "import pandas as pd\r\n",
        "import numpy as np\r\n",
        "import matplotlib.pyplot as plt\r\n",
        "import seaborn as sns\r\n",
        "\r\n",
        "%matplotlib inline\r\n",
        "\r\n",
        "#Dictating the plotting parameters\r\n",
        "sns.set()\r\n",
        "plt.rcParams['figure.figsize'] = (10.0, 8.0)"
      ],
      "execution_count": 25,
      "outputs": []
    },
    {
      "cell_type": "code",
      "metadata": {
        "id": "zJR50U-LApWb"
      },
      "source": [
        "import warnings\r\n",
        "warnings.filterwarnings('ignore')\r\n",
        "from google.colab import files"
      ],
      "execution_count": 58,
      "outputs": []
    },
    {
      "cell_type": "code",
      "metadata": {
        "id": "rNRj1qzWA0tX"
      },
      "source": [
        "# Loading the autolib dataset\r\n",
        "autolib_df = pd.read_csv('Autolib_dataset (2).csv', encoding='utf8')"
      ],
      "execution_count": 27,
      "outputs": []
    },
    {
      "cell_type": "code",
      "metadata": {
        "colab": {
          "base_uri": "https://localhost:8080/",
          "height": 443
        },
        "id": "jHJK0jMIA-ry",
        "outputId": "6e8d8991-30e6-4148-cfe3-470dcdfa3b08"
      },
      "source": [
        "# Preview the data from the top\r\n",
        "autolib_df.head()"
      ],
      "execution_count": 28,
      "outputs": [
        {
          "output_type": "execute_result",
          "data": {
            "text/html": [
              "<div>\n",
              "<style scoped>\n",
              "    .dataframe tbody tr th:only-of-type {\n",
              "        vertical-align: middle;\n",
              "    }\n",
              "\n",
              "    .dataframe tbody tr th {\n",
              "        vertical-align: top;\n",
              "    }\n",
              "\n",
              "    .dataframe thead th {\n",
              "        text-align: right;\n",
              "    }\n",
              "</style>\n",
              "<table border=\"1\" class=\"dataframe\">\n",
              "  <thead>\n",
              "    <tr style=\"text-align: right;\">\n",
              "      <th></th>\n",
              "      <th>Address</th>\n",
              "      <th>Cars</th>\n",
              "      <th>Bluecar counter</th>\n",
              "      <th>Utilib counter</th>\n",
              "      <th>Utilib 1.4 counter</th>\n",
              "      <th>Charge Slots</th>\n",
              "      <th>Charging Status</th>\n",
              "      <th>City</th>\n",
              "      <th>Displayed comment</th>\n",
              "      <th>ID</th>\n",
              "      <th>Kind</th>\n",
              "      <th>Geo point</th>\n",
              "      <th>Postal code</th>\n",
              "      <th>Public name</th>\n",
              "      <th>Rental status</th>\n",
              "      <th>Scheduled at</th>\n",
              "      <th>Slots</th>\n",
              "      <th>Station type</th>\n",
              "      <th>Status</th>\n",
              "      <th>Subscription status</th>\n",
              "      <th>year</th>\n",
              "      <th>month</th>\n",
              "      <th>day</th>\n",
              "      <th>hour</th>\n",
              "      <th>minute</th>\n",
              "    </tr>\n",
              "  </thead>\n",
              "  <tbody>\n",
              "    <tr>\n",
              "      <th>0</th>\n",
              "      <td>2 Avenue de Suffren</td>\n",
              "      <td>0</td>\n",
              "      <td>0</td>\n",
              "      <td>0</td>\n",
              "      <td>0</td>\n",
              "      <td>0</td>\n",
              "      <td>nonexistent</td>\n",
              "      <td>Paris</td>\n",
              "      <td>NaN</td>\n",
              "      <td>paris-suffren-2</td>\n",
              "      <td>STATION</td>\n",
              "      <td>48.857, 2.2917</td>\n",
              "      <td>75015</td>\n",
              "      <td>Paris/Suffren/2</td>\n",
              "      <td>operational</td>\n",
              "      <td>NaN</td>\n",
              "      <td>2</td>\n",
              "      <td>station</td>\n",
              "      <td>ok</td>\n",
              "      <td>nonexistent</td>\n",
              "      <td>2018</td>\n",
              "      <td>4</td>\n",
              "      <td>8</td>\n",
              "      <td>11</td>\n",
              "      <td>43</td>\n",
              "    </tr>\n",
              "    <tr>\n",
              "      <th>1</th>\n",
              "      <td>145 Rue Raymond Losserand</td>\n",
              "      <td>6</td>\n",
              "      <td>6</td>\n",
              "      <td>0</td>\n",
              "      <td>0</td>\n",
              "      <td>0</td>\n",
              "      <td>operational</td>\n",
              "      <td>Paris</td>\n",
              "      <td>NaN</td>\n",
              "      <td>paris-raymondlosserand-145</td>\n",
              "      <td>STATION</td>\n",
              "      <td>48.83126, 2.313088</td>\n",
              "      <td>75014</td>\n",
              "      <td>Paris/Raymond Losserand/145</td>\n",
              "      <td>operational</td>\n",
              "      <td>NaN</td>\n",
              "      <td>0</td>\n",
              "      <td>station</td>\n",
              "      <td>ok</td>\n",
              "      <td>nonexistent</td>\n",
              "      <td>2018</td>\n",
              "      <td>4</td>\n",
              "      <td>6</td>\n",
              "      <td>7</td>\n",
              "      <td>24</td>\n",
              "    </tr>\n",
              "    <tr>\n",
              "      <th>2</th>\n",
              "      <td>2 Avenue John Fitzgerald Kennedy</td>\n",
              "      <td>3</td>\n",
              "      <td>3</td>\n",
              "      <td>0</td>\n",
              "      <td>2</td>\n",
              "      <td>0</td>\n",
              "      <td>operational</td>\n",
              "      <td>Le Bourget</td>\n",
              "      <td>NaN</td>\n",
              "      <td>lebourget-johnfitzgeraldkennedy-2</td>\n",
              "      <td>STATION</td>\n",
              "      <td>48.938103, 2.4286035</td>\n",
              "      <td>93350</td>\n",
              "      <td>Le Bourget/John Fitzgerald Kennedy/2</td>\n",
              "      <td>operational</td>\n",
              "      <td>NaN</td>\n",
              "      <td>1</td>\n",
              "      <td>station</td>\n",
              "      <td>ok</td>\n",
              "      <td>nonexistent</td>\n",
              "      <td>2018</td>\n",
              "      <td>4</td>\n",
              "      <td>3</td>\n",
              "      <td>20</td>\n",
              "      <td>14</td>\n",
              "    </tr>\n",
              "    <tr>\n",
              "      <th>3</th>\n",
              "      <td>51 Rue EugÃ¨ne OudinÃ©</td>\n",
              "      <td>3</td>\n",
              "      <td>3</td>\n",
              "      <td>1</td>\n",
              "      <td>0</td>\n",
              "      <td>1</td>\n",
              "      <td>operational</td>\n",
              "      <td>Paris</td>\n",
              "      <td>NaN</td>\n",
              "      <td>paris-eugeneoudine-51</td>\n",
              "      <td>STATION</td>\n",
              "      <td>48.8250327, 2.3725162</td>\n",
              "      <td>75013</td>\n",
              "      <td>Paris/EugÃ¨ne OudinÃ©/51</td>\n",
              "      <td>operational</td>\n",
              "      <td>NaN</td>\n",
              "      <td>2</td>\n",
              "      <td>station</td>\n",
              "      <td>ok</td>\n",
              "      <td>nonexistent</td>\n",
              "      <td>2018</td>\n",
              "      <td>4</td>\n",
              "      <td>4</td>\n",
              "      <td>4</td>\n",
              "      <td>37</td>\n",
              "    </tr>\n",
              "    <tr>\n",
              "      <th>4</th>\n",
              "      <td>6 avenue de la Porte de Champerret</td>\n",
              "      <td>3</td>\n",
              "      <td>3</td>\n",
              "      <td>0</td>\n",
              "      <td>0</td>\n",
              "      <td>0</td>\n",
              "      <td>nonexistent</td>\n",
              "      <td>Paris</td>\n",
              "      <td>NaN</td>\n",
              "      <td>paris-portedechamperret-6</td>\n",
              "      <td>PARKING</td>\n",
              "      <td>48.8862632, 2.2874511</td>\n",
              "      <td>75017</td>\n",
              "      <td>Paris/Porte de Champerret/6</td>\n",
              "      <td>operational</td>\n",
              "      <td>NaN</td>\n",
              "      <td>3</td>\n",
              "      <td>station</td>\n",
              "      <td>ok</td>\n",
              "      <td>nonexistent</td>\n",
              "      <td>2018</td>\n",
              "      <td>4</td>\n",
              "      <td>8</td>\n",
              "      <td>17</td>\n",
              "      <td>23</td>\n",
              "    </tr>\n",
              "  </tbody>\n",
              "</table>\n",
              "</div>"
            ],
            "text/plain": [
              "                              Address  Cars  Bluecar counter  ...  day  hour  minute\n",
              "0                 2 Avenue de Suffren     0                0  ...    8    11      43\n",
              "1           145 Rue Raymond Losserand     6                6  ...    6     7      24\n",
              "2    2 Avenue John Fitzgerald Kennedy     3                3  ...    3    20      14\n",
              "3              51 Rue EugÃ¨ne OudinÃ©     3                3  ...    4     4      37\n",
              "4  6 avenue de la Porte de Champerret     3                3  ...    8    17      23\n",
              "\n",
              "[5 rows x 25 columns]"
            ]
          },
          "metadata": {
            "tags": []
          },
          "execution_count": 28
        }
      ]
    },
    {
      "cell_type": "code",
      "metadata": {
        "colab": {
          "base_uri": "https://localhost:8080/",
          "height": 374
        },
        "id": "4XEzQXP-Bi6_",
        "outputId": "a97e76bd-e0b3-4a3c-9b9b-5d6402410b3d"
      },
      "source": [
        "#Previewing the last few rows of the data\r\n",
        "autolib_df.tail()"
      ],
      "execution_count": 29,
      "outputs": [
        {
          "output_type": "execute_result",
          "data": {
            "text/html": [
              "<div>\n",
              "<style scoped>\n",
              "    .dataframe tbody tr th:only-of-type {\n",
              "        vertical-align: middle;\n",
              "    }\n",
              "\n",
              "    .dataframe tbody tr th {\n",
              "        vertical-align: top;\n",
              "    }\n",
              "\n",
              "    .dataframe thead th {\n",
              "        text-align: right;\n",
              "    }\n",
              "</style>\n",
              "<table border=\"1\" class=\"dataframe\">\n",
              "  <thead>\n",
              "    <tr style=\"text-align: right;\">\n",
              "      <th></th>\n",
              "      <th>Address</th>\n",
              "      <th>Cars</th>\n",
              "      <th>Bluecar counter</th>\n",
              "      <th>Utilib counter</th>\n",
              "      <th>Utilib 1.4 counter</th>\n",
              "      <th>Charge Slots</th>\n",
              "      <th>Charging Status</th>\n",
              "      <th>City</th>\n",
              "      <th>Displayed comment</th>\n",
              "      <th>ID</th>\n",
              "      <th>Kind</th>\n",
              "      <th>Geo point</th>\n",
              "      <th>Postal code</th>\n",
              "      <th>Public name</th>\n",
              "      <th>Rental status</th>\n",
              "      <th>Scheduled at</th>\n",
              "      <th>Slots</th>\n",
              "      <th>Station type</th>\n",
              "      <th>Status</th>\n",
              "      <th>Subscription status</th>\n",
              "      <th>year</th>\n",
              "      <th>month</th>\n",
              "      <th>day</th>\n",
              "      <th>hour</th>\n",
              "      <th>minute</th>\n",
              "    </tr>\n",
              "  </thead>\n",
              "  <tbody>\n",
              "    <tr>\n",
              "      <th>4995</th>\n",
              "      <td>8 avenue MÃ©nelotte</td>\n",
              "      <td>2</td>\n",
              "      <td>2</td>\n",
              "      <td>0</td>\n",
              "      <td>0</td>\n",
              "      <td>0</td>\n",
              "      <td>nonexistent</td>\n",
              "      <td>Colombes</td>\n",
              "      <td>NaN</td>\n",
              "      <td>colombes-menelotte-8</td>\n",
              "      <td>STATION</td>\n",
              "      <td>48.9246525, 2.259313</td>\n",
              "      <td>92700</td>\n",
              "      <td>Colombes/MÃ©nelotte/8</td>\n",
              "      <td>operational</td>\n",
              "      <td>NaN</td>\n",
              "      <td>3</td>\n",
              "      <td>station</td>\n",
              "      <td>ok</td>\n",
              "      <td>nonexistent</td>\n",
              "      <td>2018</td>\n",
              "      <td>4</td>\n",
              "      <td>6</td>\n",
              "      <td>11</td>\n",
              "      <td>26</td>\n",
              "    </tr>\n",
              "    <tr>\n",
              "      <th>4996</th>\n",
              "      <td>37 rue de Dantzig</td>\n",
              "      <td>4</td>\n",
              "      <td>4</td>\n",
              "      <td>0</td>\n",
              "      <td>0</td>\n",
              "      <td>1</td>\n",
              "      <td>operational</td>\n",
              "      <td>Paris</td>\n",
              "      <td>NaN</td>\n",
              "      <td>paris-dantzig-37</td>\n",
              "      <td>STATION</td>\n",
              "      <td>48.8335103, 2.2987201</td>\n",
              "      <td>75015</td>\n",
              "      <td>Paris/Dantzig/37</td>\n",
              "      <td>operational</td>\n",
              "      <td>NaN</td>\n",
              "      <td>2</td>\n",
              "      <td>station</td>\n",
              "      <td>ok</td>\n",
              "      <td>nonexistent</td>\n",
              "      <td>2018</td>\n",
              "      <td>4</td>\n",
              "      <td>4</td>\n",
              "      <td>16</td>\n",
              "      <td>56</td>\n",
              "    </tr>\n",
              "    <tr>\n",
              "      <th>4997</th>\n",
              "      <td>142 rue du Bac</td>\n",
              "      <td>1</td>\n",
              "      <td>1</td>\n",
              "      <td>0</td>\n",
              "      <td>0</td>\n",
              "      <td>1</td>\n",
              "      <td>operational</td>\n",
              "      <td>Paris</td>\n",
              "      <td>NaN</td>\n",
              "      <td>paris-bac-142</td>\n",
              "      <td>STATION</td>\n",
              "      <td>48.8508194, 2.3237968</td>\n",
              "      <td>75007</td>\n",
              "      <td>Paris/Bac/142</td>\n",
              "      <td>operational</td>\n",
              "      <td>NaN</td>\n",
              "      <td>4</td>\n",
              "      <td>station</td>\n",
              "      <td>ok</td>\n",
              "      <td>nonexistent</td>\n",
              "      <td>2018</td>\n",
              "      <td>4</td>\n",
              "      <td>1</td>\n",
              "      <td>7</td>\n",
              "      <td>1</td>\n",
              "    </tr>\n",
              "    <tr>\n",
              "      <th>4998</th>\n",
              "      <td>2 avenue du Val de Fontenay</td>\n",
              "      <td>2</td>\n",
              "      <td>2</td>\n",
              "      <td>0</td>\n",
              "      <td>0</td>\n",
              "      <td>0</td>\n",
              "      <td>nonexistent</td>\n",
              "      <td>Fontenay-Sous-Bois</td>\n",
              "      <td>NaN</td>\n",
              "      <td>fontenaysousbois-valdefontenay-2</td>\n",
              "      <td>STATION</td>\n",
              "      <td>48.8528247, 2.4869085</td>\n",
              "      <td>94120</td>\n",
              "      <td>Fontenay-Sous-Bois/Val de Fontenay/2</td>\n",
              "      <td>operational</td>\n",
              "      <td>NaN</td>\n",
              "      <td>3</td>\n",
              "      <td>station</td>\n",
              "      <td>ok</td>\n",
              "      <td>nonexistent</td>\n",
              "      <td>2018</td>\n",
              "      <td>4</td>\n",
              "      <td>4</td>\n",
              "      <td>17</td>\n",
              "      <td>27</td>\n",
              "    </tr>\n",
              "    <tr>\n",
              "      <th>4999</th>\n",
              "      <td>5 Rue Henry Brisson</td>\n",
              "      <td>4</td>\n",
              "      <td>4</td>\n",
              "      <td>0</td>\n",
              "      <td>0</td>\n",
              "      <td>0</td>\n",
              "      <td>operational</td>\n",
              "      <td>Paris</td>\n",
              "      <td>NaN</td>\n",
              "      <td>paris-henrybrisson-5</td>\n",
              "      <td>STATION</td>\n",
              "      <td>48.8984293, 2.3347923</td>\n",
              "      <td>75018</td>\n",
              "      <td>Paris/Henry Brisson/5</td>\n",
              "      <td>operational</td>\n",
              "      <td>NaN</td>\n",
              "      <td>0</td>\n",
              "      <td>station</td>\n",
              "      <td>ok</td>\n",
              "      <td>nonexistent</td>\n",
              "      <td>2018</td>\n",
              "      <td>4</td>\n",
              "      <td>8</td>\n",
              "      <td>10</td>\n",
              "      <td>2</td>\n",
              "    </tr>\n",
              "  </tbody>\n",
              "</table>\n",
              "</div>"
            ],
            "text/plain": [
              "                          Address  Cars  Bluecar counter  ...  day  hour  minute\n",
              "4995          8 avenue MÃ©nelotte     2                2  ...    6    11      26\n",
              "4996            37 rue de Dantzig     4                4  ...    4    16      56\n",
              "4997               142 rue du Bac     1                1  ...    1     7       1\n",
              "4998  2 avenue du Val de Fontenay     2                2  ...    4    17      27\n",
              "4999          5 Rue Henry Brisson     4                4  ...    8    10       2\n",
              "\n",
              "[5 rows x 25 columns]"
            ]
          },
          "metadata": {
            "tags": []
          },
          "execution_count": 29
        }
      ]
    },
    {
      "cell_type": "code",
      "metadata": {
        "colab": {
          "base_uri": "https://localhost:8080/",
          "height": 714
        },
        "id": "U6OgpyANBpj_",
        "outputId": "24b0a8d6-4a19-44fb-efba-a5a4a1b1aeeb"
      },
      "source": [
        "#Taking a random sample of ten rows in the dataset\r\n",
        "autolib_df.sample(10)"
      ],
      "execution_count": 30,
      "outputs": [
        {
          "output_type": "execute_result",
          "data": {
            "text/html": [
              "<div>\n",
              "<style scoped>\n",
              "    .dataframe tbody tr th:only-of-type {\n",
              "        vertical-align: middle;\n",
              "    }\n",
              "\n",
              "    .dataframe tbody tr th {\n",
              "        vertical-align: top;\n",
              "    }\n",
              "\n",
              "    .dataframe thead th {\n",
              "        text-align: right;\n",
              "    }\n",
              "</style>\n",
              "<table border=\"1\" class=\"dataframe\">\n",
              "  <thead>\n",
              "    <tr style=\"text-align: right;\">\n",
              "      <th></th>\n",
              "      <th>Address</th>\n",
              "      <th>Cars</th>\n",
              "      <th>Bluecar counter</th>\n",
              "      <th>Utilib counter</th>\n",
              "      <th>Utilib 1.4 counter</th>\n",
              "      <th>Charge Slots</th>\n",
              "      <th>Charging Status</th>\n",
              "      <th>City</th>\n",
              "      <th>Displayed comment</th>\n",
              "      <th>ID</th>\n",
              "      <th>Kind</th>\n",
              "      <th>Geo point</th>\n",
              "      <th>Postal code</th>\n",
              "      <th>Public name</th>\n",
              "      <th>Rental status</th>\n",
              "      <th>Scheduled at</th>\n",
              "      <th>Slots</th>\n",
              "      <th>Station type</th>\n",
              "      <th>Status</th>\n",
              "      <th>Subscription status</th>\n",
              "      <th>year</th>\n",
              "      <th>month</th>\n",
              "      <th>day</th>\n",
              "      <th>hour</th>\n",
              "      <th>minute</th>\n",
              "    </tr>\n",
              "  </thead>\n",
              "  <tbody>\n",
              "    <tr>\n",
              "      <th>2022</th>\n",
              "      <td>102 Boulevard Raymond PoincarÃ©</td>\n",
              "      <td>5</td>\n",
              "      <td>5</td>\n",
              "      <td>0</td>\n",
              "      <td>0</td>\n",
              "      <td>0</td>\n",
              "      <td>nonexistent</td>\n",
              "      <td>Garches</td>\n",
              "      <td>NaN</td>\n",
              "      <td>garches-raymondpoincare-102</td>\n",
              "      <td>STATION</td>\n",
              "      <td>48.838861, 2.1725502</td>\n",
              "      <td>92380</td>\n",
              "      <td>Garches/Raymond PoincarÃ©/102</td>\n",
              "      <td>operational</td>\n",
              "      <td>NaN</td>\n",
              "      <td>1</td>\n",
              "      <td>station</td>\n",
              "      <td>ok</td>\n",
              "      <td>nonexistent</td>\n",
              "      <td>2018</td>\n",
              "      <td>4</td>\n",
              "      <td>5</td>\n",
              "      <td>18</td>\n",
              "      <td>3</td>\n",
              "    </tr>\n",
              "    <tr>\n",
              "      <th>3071</th>\n",
              "      <td>1 avenue Philippe Auguste</td>\n",
              "      <td>5</td>\n",
              "      <td>5</td>\n",
              "      <td>0</td>\n",
              "      <td>0</td>\n",
              "      <td>0</td>\n",
              "      <td>operational</td>\n",
              "      <td>Paris</td>\n",
              "      <td>NaN</td>\n",
              "      <td>paris-philippeauguste-1</td>\n",
              "      <td>STATION</td>\n",
              "      <td>48.8493744, 2.395332</td>\n",
              "      <td>75011</td>\n",
              "      <td>Paris/Philippe Auguste/1</td>\n",
              "      <td>operational</td>\n",
              "      <td>NaN</td>\n",
              "      <td>0</td>\n",
              "      <td>station</td>\n",
              "      <td>ok</td>\n",
              "      <td>nonexistent</td>\n",
              "      <td>2018</td>\n",
              "      <td>4</td>\n",
              "      <td>6</td>\n",
              "      <td>5</td>\n",
              "      <td>40</td>\n",
              "    </tr>\n",
              "    <tr>\n",
              "      <th>4152</th>\n",
              "      <td>12 avenue de la gare</td>\n",
              "      <td>0</td>\n",
              "      <td>0</td>\n",
              "      <td>0</td>\n",
              "      <td>0</td>\n",
              "      <td>0</td>\n",
              "      <td>nonexistent</td>\n",
              "      <td>BiÃ¨vres</td>\n",
              "      <td>NaN</td>\n",
              "      <td>bievres-gare-12</td>\n",
              "      <td>STATION</td>\n",
              "      <td>48.7521371, 2.2163546</td>\n",
              "      <td>91570</td>\n",
              "      <td>BiÃ¨vres/Gare/12</td>\n",
              "      <td>future</td>\n",
              "      <td>2016-07-27T15:32:21</td>\n",
              "      <td>0</td>\n",
              "      <td>station</td>\n",
              "      <td>scheduled</td>\n",
              "      <td>nonexistent</td>\n",
              "      <td>2018</td>\n",
              "      <td>4</td>\n",
              "      <td>8</td>\n",
              "      <td>3</td>\n",
              "      <td>54</td>\n",
              "    </tr>\n",
              "    <tr>\n",
              "      <th>1192</th>\n",
              "      <td>42 avenue de Friedland</td>\n",
              "      <td>0</td>\n",
              "      <td>0</td>\n",
              "      <td>0</td>\n",
              "      <td>0</td>\n",
              "      <td>0</td>\n",
              "      <td>nonexistent</td>\n",
              "      <td>Paris</td>\n",
              "      <td>NaN</td>\n",
              "      <td>paris-friedland-42</td>\n",
              "      <td>STATION</td>\n",
              "      <td>48.8741642, 2.2976358</td>\n",
              "      <td>75008</td>\n",
              "      <td>Paris/Friedland/42</td>\n",
              "      <td>operational</td>\n",
              "      <td>NaN</td>\n",
              "      <td>4</td>\n",
              "      <td>station</td>\n",
              "      <td>ok</td>\n",
              "      <td>nonexistent</td>\n",
              "      <td>2018</td>\n",
              "      <td>4</td>\n",
              "      <td>6</td>\n",
              "      <td>2</td>\n",
              "      <td>41</td>\n",
              "    </tr>\n",
              "    <tr>\n",
              "      <th>106</th>\n",
              "      <td>126 rue de Colombes</td>\n",
              "      <td>1</td>\n",
              "      <td>1</td>\n",
              "      <td>0</td>\n",
              "      <td>0</td>\n",
              "      <td>0</td>\n",
              "      <td>nonexistent</td>\n",
              "      <td>La Garenne-Colombes</td>\n",
              "      <td>NaN</td>\n",
              "      <td>lagarennecolombes-colombes-126</td>\n",
              "      <td>STATION</td>\n",
              "      <td>48.9047803, 2.2558349</td>\n",
              "      <td>92250</td>\n",
              "      <td>La Garenne-Colombes/Colombes/126</td>\n",
              "      <td>operational</td>\n",
              "      <td>NaN</td>\n",
              "      <td>6</td>\n",
              "      <td>station</td>\n",
              "      <td>ok</td>\n",
              "      <td>nonexistent</td>\n",
              "      <td>2018</td>\n",
              "      <td>4</td>\n",
              "      <td>1</td>\n",
              "      <td>9</td>\n",
              "      <td>58</td>\n",
              "    </tr>\n",
              "    <tr>\n",
              "      <th>337</th>\n",
              "      <td>105 Rue de Rennes</td>\n",
              "      <td>0</td>\n",
              "      <td>0</td>\n",
              "      <td>0</td>\n",
              "      <td>1</td>\n",
              "      <td>0</td>\n",
              "      <td>nonexistent</td>\n",
              "      <td>Paris</td>\n",
              "      <td>NaN</td>\n",
              "      <td>paris-rennes-105</td>\n",
              "      <td>STATION</td>\n",
              "      <td>48.8489613, 2.3287351</td>\n",
              "      <td>75006</td>\n",
              "      <td>Paris/Rennes/105</td>\n",
              "      <td>operational</td>\n",
              "      <td>NaN</td>\n",
              "      <td>1</td>\n",
              "      <td>station</td>\n",
              "      <td>ok</td>\n",
              "      <td>nonexistent</td>\n",
              "      <td>2018</td>\n",
              "      <td>4</td>\n",
              "      <td>6</td>\n",
              "      <td>17</td>\n",
              "      <td>27</td>\n",
              "    </tr>\n",
              "    <tr>\n",
              "      <th>2664</th>\n",
              "      <td>20 Rue Villiot</td>\n",
              "      <td>0</td>\n",
              "      <td>0</td>\n",
              "      <td>0</td>\n",
              "      <td>0</td>\n",
              "      <td>0</td>\n",
              "      <td>broken</td>\n",
              "      <td>Paris</td>\n",
              "      <td>NaN</td>\n",
              "      <td>paris-villiot-20</td>\n",
              "      <td>SPACE</td>\n",
              "      <td>48.841876, 2.375976</td>\n",
              "      <td>75012</td>\n",
              "      <td>Paris/Villiot/20</td>\n",
              "      <td>broken</td>\n",
              "      <td>NaN</td>\n",
              "      <td>0</td>\n",
              "      <td>full_station</td>\n",
              "      <td>closed</td>\n",
              "      <td>broken</td>\n",
              "      <td>2018</td>\n",
              "      <td>4</td>\n",
              "      <td>6</td>\n",
              "      <td>4</td>\n",
              "      <td>12</td>\n",
              "    </tr>\n",
              "    <tr>\n",
              "      <th>2215</th>\n",
              "      <td>52 rue Charles Hermite</td>\n",
              "      <td>0</td>\n",
              "      <td>0</td>\n",
              "      <td>0</td>\n",
              "      <td>0</td>\n",
              "      <td>0</td>\n",
              "      <td>broken</td>\n",
              "      <td>Paris</td>\n",
              "      <td>NaN</td>\n",
              "      <td>paris-charleshermite-52</td>\n",
              "      <td>STATION</td>\n",
              "      <td>48.8990509, 2.3649827</td>\n",
              "      <td>75018</td>\n",
              "      <td>Paris/Charles Hermite/52</td>\n",
              "      <td>broken</td>\n",
              "      <td>NaN</td>\n",
              "      <td>0</td>\n",
              "      <td>station</td>\n",
              "      <td>closed</td>\n",
              "      <td>nonexistent</td>\n",
              "      <td>2018</td>\n",
              "      <td>4</td>\n",
              "      <td>7</td>\n",
              "      <td>13</td>\n",
              "      <td>41</td>\n",
              "    </tr>\n",
              "    <tr>\n",
              "      <th>4975</th>\n",
              "      <td>91 Rue du Faubourg Saint-HonorÃ©</td>\n",
              "      <td>0</td>\n",
              "      <td>0</td>\n",
              "      <td>0</td>\n",
              "      <td>0</td>\n",
              "      <td>0</td>\n",
              "      <td>broken</td>\n",
              "      <td>Paris</td>\n",
              "      <td>NaN</td>\n",
              "      <td>paris-sainthonore-91</td>\n",
              "      <td>STATION</td>\n",
              "      <td>48.872047, 2.3131252</td>\n",
              "      <td>75008</td>\n",
              "      <td>Paris/Saint-HonorÃ©/91</td>\n",
              "      <td>broken</td>\n",
              "      <td>NaN</td>\n",
              "      <td>0</td>\n",
              "      <td>station</td>\n",
              "      <td>closed</td>\n",
              "      <td>nonexistent</td>\n",
              "      <td>2018</td>\n",
              "      <td>4</td>\n",
              "      <td>3</td>\n",
              "      <td>1</td>\n",
              "      <td>21</td>\n",
              "    </tr>\n",
              "    <tr>\n",
              "      <th>4220</th>\n",
              "      <td>2 Rue de Rungis</td>\n",
              "      <td>3</td>\n",
              "      <td>3</td>\n",
              "      <td>1</td>\n",
              "      <td>0</td>\n",
              "      <td>0</td>\n",
              "      <td>operational</td>\n",
              "      <td>Paris</td>\n",
              "      <td>NaN</td>\n",
              "      <td>paris-rungis-2</td>\n",
              "      <td>STATION</td>\n",
              "      <td>48.82195, 2.345853</td>\n",
              "      <td>75013</td>\n",
              "      <td>Paris/Rungis/2</td>\n",
              "      <td>operational</td>\n",
              "      <td>NaN</td>\n",
              "      <td>1</td>\n",
              "      <td>station</td>\n",
              "      <td>ok</td>\n",
              "      <td>nonexistent</td>\n",
              "      <td>2018</td>\n",
              "      <td>4</td>\n",
              "      <td>7</td>\n",
              "      <td>15</td>\n",
              "      <td>26</td>\n",
              "    </tr>\n",
              "  </tbody>\n",
              "</table>\n",
              "</div>"
            ],
            "text/plain": [
              "                               Address  Cars  ...  hour  minute\n",
              "2022   102 Boulevard Raymond PoincarÃ©     5  ...    18       3\n",
              "3071         1 avenue Philippe Auguste     5  ...     5      40\n",
              "4152              12 avenue de la gare     0  ...     3      54\n",
              "1192            42 avenue de Friedland     0  ...     2      41\n",
              "106                126 rue de Colombes     1  ...     9      58\n",
              "337                  105 Rue de Rennes     0  ...    17      27\n",
              "2664                    20 Rue Villiot     0  ...     4      12\n",
              "2215            52 rue Charles Hermite     0  ...    13      41\n",
              "4975  91 Rue du Faubourg Saint-HonorÃ©     0  ...     1      21\n",
              "4220                   2 Rue de Rungis     3  ...    15      26\n",
              "\n",
              "[10 rows x 25 columns]"
            ]
          },
          "metadata": {
            "tags": []
          },
          "execution_count": 30
        }
      ]
    },
    {
      "cell_type": "code",
      "metadata": {
        "colab": {
          "base_uri": "https://localhost:8080/"
        },
        "id": "MetrdoUdBu5f",
        "outputId": "9a273b34-8938-4be3-94af-cd2edf424445"
      },
      "source": [
        "# Getting information on the dataset\r\n",
        "autolib_df.info()"
      ],
      "execution_count": 31,
      "outputs": [
        {
          "output_type": "stream",
          "text": [
            "<class 'pandas.core.frame.DataFrame'>\n",
            "RangeIndex: 5000 entries, 0 to 4999\n",
            "Data columns (total 25 columns):\n",
            " #   Column               Non-Null Count  Dtype \n",
            "---  ------               --------------  ----- \n",
            " 0   Address              5000 non-null   object\n",
            " 1   Cars                 5000 non-null   int64 \n",
            " 2   Bluecar counter      5000 non-null   int64 \n",
            " 3   Utilib counter       5000 non-null   int64 \n",
            " 4   Utilib 1.4 counter   5000 non-null   int64 \n",
            " 5   Charge Slots         5000 non-null   int64 \n",
            " 6   Charging Status      5000 non-null   object\n",
            " 7   City                 5000 non-null   object\n",
            " 8   Displayed comment    111 non-null    object\n",
            " 9   ID                   5000 non-null   object\n",
            " 10  Kind                 5000 non-null   object\n",
            " 11  Geo point            5000 non-null   object\n",
            " 12  Postal code          5000 non-null   int64 \n",
            " 13  Public name          5000 non-null   object\n",
            " 14  Rental status        5000 non-null   object\n",
            " 15  Scheduled at         47 non-null     object\n",
            " 16  Slots                5000 non-null   int64 \n",
            " 17  Station type         5000 non-null   object\n",
            " 18  Status               5000 non-null   object\n",
            " 19  Subscription status  5000 non-null   object\n",
            " 20  year                 5000 non-null   int64 \n",
            " 21  month                5000 non-null   int64 \n",
            " 22  day                  5000 non-null   int64 \n",
            " 23  hour                 5000 non-null   int64 \n",
            " 24  minute               5000 non-null   int64 \n",
            "dtypes: int64(12), object(13)\n",
            "memory usage: 976.7+ KB\n"
          ],
          "name": "stdout"
        }
      ]
    },
    {
      "cell_type": "code",
      "metadata": {
        "colab": {
          "base_uri": "https://localhost:8080/"
        },
        "id": "AjJuk9IQB0UJ",
        "outputId": "9fa6ee83-24b9-42c9-c671-43f62c846f97"
      },
      "source": [
        "# Finding out the number of rows and columns in the data frame\r\n",
        "autolib_df.shape"
      ],
      "execution_count": 32,
      "outputs": [
        {
          "output_type": "execute_result",
          "data": {
            "text/plain": [
              "(5000, 25)"
            ]
          },
          "metadata": {
            "tags": []
          },
          "execution_count": 32
        }
      ]
    },
    {
      "cell_type": "code",
      "metadata": {
        "id": "xx2eMwqKB9Tq"
      },
      "source": [
        "# Droping the columns with very few non-missing values\r\n",
        "autolib_df.drop(['Displayed comment', 'Scheduled at'], axis=1, inplace=True)"
      ],
      "execution_count": 33,
      "outputs": []
    },
    {
      "cell_type": "code",
      "metadata": {
        "id": "pjdkJtSSCB9a"
      },
      "source": [
        "# Use a for function to rename the necessary columns\r\n",
        "col_names = autolib_df.columns.tolist()\r\n",
        "for col in range(len(col_names)):\r\n",
        "  col_names[col] = col_names[col].lower().replace(\" \", \"_\")\r\n",
        "\r\n",
        "autolib_df.columns = col_names"
      ],
      "execution_count": 34,
      "outputs": []
    },
    {
      "cell_type": "code",
      "metadata": {
        "colab": {
          "base_uri": "https://localhost:8080/"
        },
        "id": "2lywEmMDCF0U",
        "outputId": "476ed342-4c2a-4280-b259-3d27329e20e1"
      },
      "source": [
        "# Check for duplicates in the data\r\n",
        "autolib_df.duplicated().any()"
      ],
      "execution_count": 35,
      "outputs": [
        {
          "output_type": "execute_result",
          "data": {
            "text/plain": [
              "False"
            ]
          },
          "metadata": {
            "tags": []
          },
          "execution_count": 35
        }
      ]
    },
    {
      "cell_type": "code",
      "metadata": {
        "colab": {
          "base_uri": "https://localhost:8080/"
        },
        "id": "3xe1EVBcCLUb",
        "outputId": "676e8392-1e11-4df5-d710-f4e2cebbc90d"
      },
      "source": [
        "# Check for missing values\r\n",
        "autolib_df.isnull().sum().sort_values(ascending=False)"
      ],
      "execution_count": 36,
      "outputs": [
        {
          "output_type": "execute_result",
          "data": {
            "text/plain": [
              "minute                 0\n",
              "geo_point              0\n",
              "cars                   0\n",
              "bluecar_counter        0\n",
              "utilib_counter         0\n",
              "utilib_1.4_counter     0\n",
              "charge_slots           0\n",
              "charging_status        0\n",
              "city                   0\n",
              "id                     0\n",
              "kind                   0\n",
              "postal_code            0\n",
              "hour                   0\n",
              "public_name            0\n",
              "rental_status          0\n",
              "slots                  0\n",
              "station_type           0\n",
              "status                 0\n",
              "subscription_status    0\n",
              "year                   0\n",
              "month                  0\n",
              "day                    0\n",
              "address                0\n",
              "dtype: int64"
            ]
          },
          "metadata": {
            "tags": []
          },
          "execution_count": 36
        }
      ]
    },
    {
      "cell_type": "code",
      "metadata": {
        "colab": {
          "base_uri": "https://localhost:8080/"
        },
        "id": "kZ0QNw_HCRKt",
        "outputId": "22b85d00-41b6-4d6f-ce67-2808b4d13a72"
      },
      "source": [
        "# Checking the respective column datatypes\r\n",
        "autolib_df.dtypes"
      ],
      "execution_count": 37,
      "outputs": [
        {
          "output_type": "execute_result",
          "data": {
            "text/plain": [
              "address                object\n",
              "cars                    int64\n",
              "bluecar_counter         int64\n",
              "utilib_counter          int64\n",
              "utilib_1.4_counter      int64\n",
              "charge_slots            int64\n",
              "charging_status        object\n",
              "city                   object\n",
              "id                     object\n",
              "kind                   object\n",
              "geo_point              object\n",
              "postal_code             int64\n",
              "public_name            object\n",
              "rental_status          object\n",
              "slots                   int64\n",
              "station_type           object\n",
              "status                 object\n",
              "subscription_status    object\n",
              "year                    int64\n",
              "month                   int64\n",
              "day                     int64\n",
              "hour                    int64\n",
              "minute                  int64\n",
              "dtype: object"
            ]
          },
          "metadata": {
            "tags": []
          },
          "execution_count": 37
        }
      ]
    },
    {
      "cell_type": "code",
      "metadata": {
        "id": "MEOa2XNoCYJH"
      },
      "source": [
        "# Extract paris data from the data frame\r\n",
        "paris_df = autolib_df[autolib_df.city == 'Paris']"
      ],
      "execution_count": 38,
      "outputs": []
    },
    {
      "cell_type": "code",
      "metadata": {
        "colab": {
          "base_uri": "https://localhost:8080/"
        },
        "id": "EUaV6Oy1CcX6",
        "outputId": "c2dc4328-33e0-49ca-eb4b-6670cd606ca5"
      },
      "source": [
        "# Shape of paris dataframe\r\n",
        "paris_df.shape"
      ],
      "execution_count": 39,
      "outputs": [
        {
          "output_type": "execute_result",
          "data": {
            "text/plain": [
              "(2816, 23)"
            ]
          },
          "metadata": {
            "tags": []
          },
          "execution_count": 39
        }
      ]
    },
    {
      "cell_type": "code",
      "metadata": {
        "id": "-cJVnJWxCiah"
      },
      "source": [
        "# Create date feature\r\n",
        "paris_df['date'] = paris_df[paris_df.columns[18:21]].apply(lambda x: '/'.join(x.astype(str)), axis=1)"
      ],
      "execution_count": 40,
      "outputs": []
    },
    {
      "cell_type": "code",
      "metadata": {
        "id": "5SgxnsxJDElV"
      },
      "source": [
        "# Create time feature\r\n",
        "paris_df['time'] = paris_df[paris_df.columns[21:23]].apply(lambda x: \":\".join(x.astype(str)), axis = 1)"
      ],
      "execution_count": 41,
      "outputs": []
    },
    {
      "cell_type": "code",
      "metadata": {
        "id": "iYuy1xnEDFSH"
      },
      "source": [
        "# Create date time feature\r\n",
        "paris_df['datetime'] = paris_df[paris_df.columns[23:]].apply(lambda x: \" \".join(x.astype(str)), axis = 1)"
      ],
      "execution_count": 42,
      "outputs": []
    },
    {
      "cell_type": "code",
      "metadata": {
        "id": "UW5map-PDFgz"
      },
      "source": [
        "# Covert datetime feature to datetime\r\n",
        "paris_df.datetime = pd.to_datetime(paris_df.datetime)"
      ],
      "execution_count": 43,
      "outputs": []
    },
    {
      "cell_type": "code",
      "metadata": {
        "colab": {
          "base_uri": "https://localhost:8080/"
        },
        "id": "cPOXwe_FCzUU",
        "outputId": "fad62b62-39d8-49d4-d1cf-19b9e2e9280d"
      },
      "source": [
        "# Finding put how many unique stations are there in paris?\r\n",
        "paris_df.id.unique()"
      ],
      "execution_count": 44,
      "outputs": [
        {
          "output_type": "execute_result",
          "data": {
            "text/plain": [
              "array(['paris-suffren-2', 'paris-raymondlosserand-145',\n",
              "       'paris-eugeneoudine-51', 'paris-portedechamperret-6',\n",
              "       'paris-voltaire-8', 'paris-citroencevennes-parking',\n",
              "       'paris-jeanmoulin-34', 'paris-anvers-parking', 'paris-censier-14',\n",
              "       'paris-richardlenoir-8', 'paris-voltaire-182',\n",
              "       'paris-cambronne-parking', 'paris-renecoty-11',\n",
              "       'paris-catalogne-2', 'paris-emiledeschanel-15',\n",
              "       'paris-faubourgsaintmartin-203', 'paris-danton-8',\n",
              "       'paris-boucry-35', 'paris-pontlouisphilippe-24',\n",
              "       'paris-miollis-21', 'paris-sorbier-14', 'paris-londres-6',\n",
              "       'paris-fredericklemaitre-5', 'paris-clichy-70', 'paris-mozart-68',\n",
              "       'paris-claudebernard-16', 'paris-georgesmandel-42',\n",
              "       'paris-grandearmee-81', 'paris-reille-59', 'paris-tolbiac-41',\n",
              "       'paris-fabredeglantine-2', 'paris-republique-17',\n",
              "       'paris-sevresbabylone-parking', 'paris-raymondlosserand-229',\n",
              "       'paris-murat-1', 'paris-pompe-137', 'paris-guypatin-10',\n",
              "       'paris-jacquesduchesne-1', 'paris-saintecroixdelabretonnerie-37',\n",
              "       'paris-etoilefoch-parking', 'paris-ranelagh-33',\n",
              "       'paris-philippeauguste-65', 'paris-segur-55', 'paris-bosquet-81',\n",
              "       'paris-victoria-17', 'paris-rochechouart-31',\n",
              "       'paris-juleslefebvre-1', 'paris-diderot-24', 'paris-lobau-parking',\n",
              "       'paris-charolais-2', 'paris-bourdon-41',\n",
              "       'paris-colonelpierreavia-1', 'paris-convention-171',\n",
              "       'paris-saintmartin-17', 'paris-pyrenees-137', 'paris-ranelagh-10',\n",
              "       'paris-iena-24', 'paris-lafayette-56', 'paris-malher-13',\n",
              "       'paris-emilezola-6', 'paris-pyrenees-231', 'paris-reaumur-116',\n",
              "       'paris-gerbert-11', 'paris-vaugirard-3', 'paris-murat-98',\n",
              "       'paris-grenelle-139', 'paris-sainthonore-161',\n",
              "       'paris-chanaleilles-1', 'paris-gaylussac-66', 'paris-fleurus-2',\n",
              "       'paris-portedemontrouge-8', 'paris-mathis-35', 'paris-reaumur-38',\n",
              "       'paris-grangeauxbelles-47', 'paris-fillesducalvaire-19',\n",
              "       'paris-crozatier-33', 'paris-secretan-4',\n",
              "       'paris-croixdespetitschamps-4', 'paris-ivry-3', 'paris-mortier-15',\n",
              "       'paris-quatreseptembre-10', 'paris-championnet-28',\n",
              "       'paris-pyrenees-236', 'paris-gastontessier-8',\n",
              "       'paris-vaugirard-20', 'paris-faubourgsaintantoine-199',\n",
              "       'paris-balard-108', 'paris-bretagne-51', 'paris-courcelles-69',\n",
              "       'paris-plaine-25', 'paris-jouffroydabbans-108',\n",
              "       'paris-pereire-115', 'paris-julienlacroix-39', 'paris-leonfrot-1',\n",
              "       'paris-goubet-8', 'paris-plantes-56', 'paris-dantzig-80',\n",
              "       'paris-claudedecaen-26', 'paris-maine-78', 'paris-ordener-65',\n",
              "       'paris-croulebarbe-1', 'paris-geoffroysainthilaire-27',\n",
              "       'paris-delessert-23', 'paris-paix-24',\n",
              "       'paris-faubourgpoissoniere-64', 'paris-perree-18',\n",
              "       'paris-rachel-1', 'paris-legendre-22', 'paris-emilelaurent-1',\n",
              "       'paris-olier-15', 'paris-capitaineferber-5',\n",
              "       'paris-philippeauguste-1', 'paris-saintmande-48',\n",
              "       'paris-charlesmoureu-42', 'paris-republique-128',\n",
              "       'paris-remusat-8', 'paris-emilezola-65', 'paris-paulbarruel-44',\n",
              "       'paris-ravignan-1', 'paris-margueritelong-11', 'paris-crimee-82',\n",
              "       'paris-picpusnation-parking', 'paris-couronnes-2',\n",
              "       'paris-louisblanc-6', 'paris-fernandbraudel-21',\n",
              "       'paris-haussmann-61', 'paris-championnet-162',\n",
              "       'paris-julesromains-1', 'paris-batignolles-92',\n",
              "       'paris-saintjacques1-parking', 'paris-saintmande-94',\n",
              "       'paris-pyrenees-330', 'paris-constantine-25',\n",
              "       'paris-portesaintcloud-parking', 'paris-houdartdelamotte-2',\n",
              "       'paris-chernoviz-12', 'paris-chateaulandon-24', 'paris-four-38',\n",
              "       'paris-sofia-16', 'paris-portedaubervilliers-10',\n",
              "       'paris-tourmaubourg-76', 'paris-reuilly-116', 'paris-lyon-8',\n",
              "       'paris-yvestoudic-3', 'paris-grenelle31-parking',\n",
              "       'paris-villiot-20', 'paris-adolphemax-6', 'paris-commerce-5',\n",
              "       'paris-gambetta-1', 'paris-bethune-36',\n",
              "       'paris-anatoledelaforge-10', 'paris-madame-18', 'paris-molitor-16',\n",
              "       'paris-maine-185', 'paris-saintaugustin-9',\n",
              "       'paris-concorde-parking', 'paris-republique-36',\n",
              "       'paris-caulaincourt-17', 'paris-philippeauguste-126',\n",
              "       'paris-caillaux-24', 'paris-rennes-105', 'paris-tolbiac-189',\n",
              "       'paris-lacordaire-56', 'paris-charlesbossut-4',\n",
              "       'paris-victormasse-35', 'paris-jeanjacquesrousseau-62',\n",
              "       'paris-algerie-7', 'paris-grenelle-37',\n",
              "       'paris-notredamedesvictoires-21', 'paris-croixnivert-192',\n",
              "       'paris-flandre-169', 'paris-voltaire-236', 'paris-berthier-97',\n",
              "       'paris-portroyal-97', 'paris-francoisdeneufchateau-11',\n",
              "       'paris-bosquet-41', 'paris-pernety-46', 'paris-henrimartin-70',\n",
              "       'paris-emileaugier-20', 'paris-rocroy-15', 'paris-valette-2',\n",
              "       'paris-paradis-28', 'paris-pereire-271', 'paris-paulinenfert-6',\n",
              "       'paris-caulincourt-71', 'paris-turgot-4',\n",
              "       'paris-joffreecolemilitaire-parking', 'paris-iena-63',\n",
              "       'paris-bastille-50', 'paris-victoire-76', 'paris-duroc-2',\n",
              "       'paris-malakoff-115', 'paris-saintvincentdepaul-26',\n",
              "       'paris-rome-73', 'paris-legendre-126', 'paris-manin-159',\n",
              "       'paris-pierrechausson-1', 'paris-halles-3', 'paris-petrarque-2',\n",
              "       'paris-generalleclerc-101', 'paris-charonne-52',\n",
              "       'paris-bellechasse-5', 'paris-berri-10', 'paris-victorhugo-18',\n",
              "       'paris-faubourgsaintmartin-242', 'paris-leblanc-19',\n",
              "       'paris-gambetta-19', 'paris-darmesteter-12', 'paris-pommard-7',\n",
              "       'paris-malesherbes-7', 'paris-versaillesreynaud-parking',\n",
              "       'paris-pereire-170', 'paris-monceau-43', 'paris-raymondpitet-7',\n",
              "       'paris-jonquiere-66', 'paris-saintgermaindespres-parking',\n",
              "       'paris-constantinople-4', 'paris-polonceau-19', 'paris-macmahon-5',\n",
              "       'paris-chateaubriand-19', 'paris-mithouard-6', 'paris-berite-3',\n",
              "       'paris-saintjacques-221', 'paris-adolpheyvon-6',\n",
              "       'paris-fredericloliee-5', 'paris-vauvenargues-35',\n",
              "       'paris-pereire-50', 'paris-clichy-181', 'paris-vincentauriol-143',\n",
              "       'paris-raymondpoincare-51', 'paris-seine-77', 'paris-botzaris-16',\n",
              "       'paris-vouille-47', 'paris-jeannedarc-157', 'paris-saintmaur-157',\n",
              "       'paris-grandearmee-13', 'paris-fernandlabori-1',\n",
              "       'paris-bernardins-23', 'paris-wagram-77', 'paris-voltaire-106',\n",
              "       'paris-provence-35', 'paris-suffren-78', 'paris-raphael-20',\n",
              "       'paris-saintgervais-1', 'paris-raspail-9', 'paris-victorhugo-180',\n",
              "       'paris-republique-86', 'paris-henriiv-46', 'paris-uzes-1',\n",
              "       'paris-pyrenees-89', 'paris-versailles-53',\n",
              "       'paris-vincentauriol-parking', 'paris-sainthonore-422',\n",
              "       'paris-suffren-44', 'paris-25aout1944-8', 'paris-daumesnil-199',\n",
              "       'paris-hoche-31', 'paris-ordener-1', 'paris-grandearmee-40',\n",
              "       'paris-tronchet-19', 'paris-rungis-2', 'paris-saintmartin-204',\n",
              "       'paris-parmentier-62', 'paris-rochambeau-6', 'paris-dulong-67',\n",
              "       'paris-henrybrisson-5', 'paris-richardlenoir-63',\n",
              "       'paris-ternes-parking', 'paris-turenne-98', 'paris-lorraine-22',\n",
              "       'paris-kleber-89', 'paris-jeansicard-1', 'paris-courcelles-40',\n",
              "       'paris-clovis-20', 'paris-vaugirard-230', 'paris-choisy-188',\n",
              "       'paris-notredamedeschamps-39', 'paris-depart-23',\n",
              "       'paris-convention-75', 'paris-saintplacide-58',\n",
              "       'paris-ledrurollin-20', 'paris-generallaperrine-15',\n",
              "       'paris-villiers-46', 'paris-jeannedarc-45', 'paris-batignolles-9',\n",
              "       'paris-sibour-2', 'paris-saintdenis-91', 'paris-monge-99',\n",
              "       'paris-darcet-28', 'paris-jeancocteau-2', 'paris-paulpainleve-7',\n",
              "       'paris-jeanfrancoislepine-1', 'paris-daviddangers-54',\n",
              "       'paris-froidevaux-71', 'paris-pasteur-41',\n",
              "       'paris-buissonsaintlouis-2', 'paris-pasteurmontparnasse-parking',\n",
              "       'paris-mauriceberteaux-2', 'paris-gouthiere-12',\n",
              "       'paris-jeandelafontaine-77', 'paris-pyrenees-356', 'paris-bac-142',\n",
              "       'paris-aumale-28', 'paris-flandre-61', 'paris-liege-24',\n",
              "       'paris-arnoldnetter-10', 'paris-balard-18',\n",
              "       'paris-ledrurollin-155', 'paris-voltaire-59',\n",
              "       'paris-conservatoire-13', 'paris-henard-3', 'paris-pelleport-105',\n",
              "       'paris-dante-1', 'paris-chazelles-1', 'paris-gambetta-249',\n",
              "       'paris-boulard-1', 'paris-vincennes-120', 'paris-diderot-73',\n",
              "       'paris-montparnassegaite-parking', 'paris-adolphemille-8',\n",
              "       'paris-matignon-2', 'paris-tolbiac-15', 'paris-chevaleret-131',\n",
              "       'paris-lagny-117', 'paris-lobineau-9',\n",
              "       'paris-montparnasseraspail-parking', 'paris-vivienne-43',\n",
              "       'paris-trudaine-26', 'paris-alexandrie-7', 'paris-saintmaur-36',\n",
              "       'paris-ouest-6', 'paris-mademoiselle-22', 'paris-belleville-22',\n",
              "       'paris-bercy-5', 'paris-linne-18', 'paris-diderot-172',\n",
              "       'paris-armandcarrel-46', 'paris-menilmontant-30', 'paris-rapee-46',\n",
              "       'paris-martignac-2', 'paris-ordener-120',\n",
              "       'paris-charlesetrobert-6', 'paris-louisblanc-67',\n",
              "       'paris-charlesfillion-22', 'paris-georgev-44',\n",
              "       'paris-emilezola-143', 'paris-gouvionmaillot-parking',\n",
              "       'paris-faidherbe-27', 'paris-chateaudun-21',\n",
              "       'paris-nonnainsdhyeres-1', 'paris-victorhugo-93',\n",
              "       'paris-lhopital-157', 'paris-garibaldicambronne-parking',\n",
              "       'paris-pierrebrossolette-1', 'paris-bremontier-19',\n",
              "       'paris-richardlenoir-36', 'paris-charenton-251',\n",
              "       'paris-coloneldriant-7', 'paris-maine-4', 'paris-marcadet-7',\n",
              "       'paris-marceau-1', 'paris-henribarbusse-25',\n",
              "       'paris-montecristo-24', 'paris-brunel-42',\n",
              "       'paris-faubourgmontmartre-31',\n",
              "       'paris-marieandreelagrouaweilhalle-2', 'paris-pyramides-12',\n",
              "       'paris-felixfaure-109', 'paris-sorbier-40', 'paris-haussmann-6',\n",
              "       'paris-frigos-24', 'paris-hopital-47', 'paris-saintantoine-16',\n",
              "       'paris-astorg-11', 'paris-eaux-2', 'paris-messine-12',\n",
              "       'paris-galvani-25', 'paris-francois1er-7', 'paris-monge-112',\n",
              "       'paris-nationale-77', 'paris-niel-28', 'paris-clichy-23',\n",
              "       'paris-tolbiac-145', 'paris-ternes-73', 'paris-flandrin-83',\n",
              "       'paris-vincentauriol-81', 'paris-rome-46', 'paris-morillons-95',\n",
              "       'paris-madeleinetronchet-parking', 'paris-guebriant-6',\n",
              "       'paris-auteuil-55', 'paris-secretan-44', 'paris-menilmontant-122',\n",
              "       'paris-chapelle-75', 'paris-parmentier-125', 'paris-bois-1',\n",
              "       'paris-pierre1erdeserbie-33',\n",
              "       'paris-lecourbemairieduxveme-parking', 'paris-ternes-6',\n",
              "       'paris-grenelle-152', 'paris-parmentier-2', 'paris-turenne-46',\n",
              "       'paris-alesia-33', 'paris-bobillot-16', 'paris-friedland-42',\n",
              "       'paris-monge-58', 'paris-pyramides-parking', 'paris-roubo-1',\n",
              "       'paris-duquesne-26', 'paris-tournelle-21', 'paris-botzaris-76',\n",
              "       'paris-taillebourg-2', 'paris-manin-1', 'paris-pelleport-86',\n",
              "       'paris-versailles-112', 'paris-beaumarchais-87',\n",
              "       'paris-georgesberger-2', 'paris-invalides-32',\n",
              "       'paris-mahatmagandhi-6', 'paris-jouffroydabbans-14',\n",
              "       'paris-louvre-3', 'paris-commandantlamy-2', 'paris-bercy-88',\n",
              "       'paris-francois1er-38', 'paris-georgeslafenestre-11',\n",
              "       'paris-ledrurollin-104', 'paris-sainthonore-123',\n",
              "       'paris-doudeauville-29', 'paris-beaurepaire-31',\n",
              "       'paris-emilereynaud-4', 'paris-cotentin-29', 'paris-lafayette-7',\n",
              "       'paris-arrivee-16', 'paris-beaugrenelle-4',\n",
              "       'paris-saintmartin-parking', 'paris-etiennemarcel-36',\n",
              "       'paris-amiralcoligny-2', 'paris-telegraphe-16',\n",
              "       'paris-roquette-162', 'paris-meurthe-1', 'paris-nation-26',\n",
              "       'paris-bertinpoiree-14', 'paris-jeannicot-10',\n",
              "       'paris-georgesmandel-1', 'paris-mozart-2', 'paris-jacquescallot-5',\n",
              "       'paris-lourmel-33', 'paris-sebastienmercier-44',\n",
              "       'paris-mozart-101', 'paris-simonbolivar-96', 'paris-didot-41',\n",
              "       'paris-lafayette-143', 'paris-villette-55', 'paris-picpus-7',\n",
              "       'paris-ernestpsichari-13', 'paris-flandre-119',\n",
              "       'paris-evangile-45', 'paris-lourmel-79', 'paris-pasteur2-parking',\n",
              "       'paris-quatreseptembre-26', 'paris-batignolles-27',\n",
              "       'paris-choisy-8', 'paris-henribarbusse-66', 'paris-mayet-2',\n",
              "       'paris-bourdon-9', 'paris-portedevilliers-28',\n",
              "       'paris-saintantoine-238', 'paris-portedecharenton-2',\n",
              "       'paris-ramey-62', 'paris-renault-2', 'paris-duhesne-113',\n",
              "       'paris-louvre-31', 'paris-suffren-161', 'paris-marcheneuf-8',\n",
              "       'paris-artois-11', 'paris-emileduclaux-19',\n",
              "       'paris-saintmartin-243', 'paris-olivierdeserres-3', 'paris-metz-6',\n",
              "       'paris-pierrecharron-62', 'paris-etiennepernet-26',\n",
              "       'paris-grangeauxbelles-11', 'paris-edgarquinet-2',\n",
              "       'paris-vulpian-24', 'paris-saintjacques-59',\n",
              "       'paris-belleville-265', 'paris-volta-39', 'paris-hericart-54',\n",
              "       'paris-lecourbe-63', 'paris-jeandelafontaine-42',\n",
              "       'paris-navier-47', 'paris-faubourgsaintmartin-168',\n",
              "       'paris-montfaucon-4', 'paris-michelet-6',\n",
              "       'paris-claudevellefaux-3', 'paris-rennesmontparnasse-parking',\n",
              "       'paris-saintgermain-188', 'paris-manin-69', 'paris-sibelle-29',\n",
              "       'paris-portepouchet-6', 'paris-exelmans-77', 'paris-megisserie-20',\n",
              "       'paris-sainthonore-91', 'paris-bastille-20', 'paris-suffren-112',\n",
              "       'paris-schomberg-1', 'paris-pouchet-4', 'paris-lecourbe-178',\n",
              "       'paris-courcelles-210', 'paris-charleshermite-52',\n",
              "       'paris-generalkoenig-12', 'paris-aubervilliers-38',\n",
              "       'paris-divry-58', 'paris-custine-45', 'paris-arago-52',\n",
              "       'paris-republique-5', 'paris-nicolastaunay-7', 'paris-orteaux-92',\n",
              "       'paris-navier-1', 'paris-augusteblanqui-50', 'paris-invalides-21',\n",
              "       'paris-bonnenouvelle-21', 'paris-custine-17', 'paris-perle-18',\n",
              "       'paris-cardinet-parking', 'paris-milton-12', 'paris-renefonck-2',\n",
              "       'paris-chateaulandon-52', 'paris-portedauteuil-parking',\n",
              "       'paris-harpignies-3', 'paris-arago-99', 'paris-courcelles-188',\n",
              "       'paris-dutuit-1', 'paris-cronstadt-2', 'paris-docteurfinlay-43',\n",
              "       'paris-richardlenoir-110', 'paris-malesherbes-113',\n",
              "       'paris-bagnolet-142', 'paris-madeleine-8', 'paris-marcadet-150',\n",
              "       'paris-aubervilliers-126', 'paris-theophilegauthier-14',\n",
              "       'paris-crimee-8', 'paris-dantzig-37', 'paris-exelmans-32',\n",
              "       'paris-reuilly-80', 'paris-laboetie-37', 'paris-quaiauxfleurs-23',\n",
              "       'paris-piroguesdebercy-44', 'paris-charenton-97',\n",
              "       'paris-mathurinmoreau-6', 'paris-richerand-11',\n",
              "       'paris-etatsunis-16', 'paris-victorhugo-60', 'paris-castagnou-10',\n",
              "       'paris-picpus-122', 'paris-francoisedolto-1', 'paris-dalayrac-19',\n",
              "       'paris-peguy-2', 'paris-bourdonnais-45', 'paris-raspail-136',\n",
              "       'paris-soeurrosalie-4', 'paris-squaretolstoi-2',\n",
              "       'paris-henrihuchard-48', 'paris-berbierdumets-26',\n",
              "       'paris-marcadet-220', 'paris-leray-10', 'paris-cognacqjay-20',\n",
              "       'paris-chausseedantin-5', 'paris-pauldoumer-72',\n",
              "       'paris-ecoledemedecine-21', 'paris-jeanveber-3',\n",
              "       'paris-marceau-59', 'paris-poteau-40', 'paris-temple-36',\n",
              "       'paris-septarpents-9', 'paris-botzaris-50',\n",
              "       'paris-mademoiselle-67', 'paris-gambetta-161',\n",
              "       'paris-chevaleret-79', 'paris-saintjacques-133',\n",
              "       'paris-saintroch-3', 'paris-federation-10', 'paris-paulescudier-2',\n",
              "       'paris-clichy-2', 'paris-augusteblanqui-120', 'paris-valmy-107',\n",
              "       'paris-lecourbe-336', 'paris-ledrurollin-88', 'paris-broussais-32',\n",
              "       'paris-tolbiac-245', 'paris-jourdan-26', 'paris-vincennes-65',\n",
              "       'paris-notredame-parking', 'paris-lacepede-38',\n",
              "       'paris-josephbara-15', 'paris-pastourelle-27',\n",
              "       'paris-charonne-158', 'paris-gambetta-65', 'paris-murat-157',\n",
              "       'paris-vascodegama-74', 'paris-neuvesaintpierre-2',\n",
              "       'paris-quaidausterlitz-parking', 'paris-vercingetorix-106',\n",
              "       'paris-serurier-54'], dtype=object)"
            ]
          },
          "metadata": {
            "tags": []
          },
          "execution_count": 44
        }
      ]
    },
    {
      "cell_type": "code",
      "metadata": {
        "id": "mHsHX7r1DUzB"
      },
      "source": [
        "# A vehicle can only be picked up from stations with an operational rental status.\r\n",
        "# The station can be of any kind other than center, station type can either be station, \r\n",
        "# full_station, station status can either be ok or closed\r\n",
        "# Filter out stations without operational rental status\r\n",
        "available_stations = paris_df[paris_df.rental_status == 'operational']\r\n",
        "#Filter out stations with center kind\r\n",
        "available_stations = available_stations[available_stations.kind != 'CENTER']\r\n",
        "# Filter out stations with subs_center station type\r\n",
        "available_stations = available_stations[available_stations.station_type != 'subs_center']\r\n",
        "# Filter out stations with a scheduled status\r\n",
        "available_stations = available_stations[available_stations.status != 'scheduled']"
      ],
      "execution_count": 47,
      "outputs": []
    },
    {
      "cell_type": "code",
      "metadata": {
        "colab": {
          "base_uri": "https://localhost:8080/"
        },
        "id": "WcIihJH3EFHH",
        "outputId": "2d9d1c03-d41f-4c96-fbc9-8bde53ba3317"
      },
      "source": [
        "# Getting the shape of the available stations\r\n",
        "available_stations.shape"
      ],
      "execution_count": 48,
      "outputs": [
        {
          "output_type": "execute_result",
          "data": {
            "text/plain": [
              "(2629, 26)"
            ]
          },
          "metadata": {
            "tags": []
          },
          "execution_count": 48
        }
      ]
    },
    {
      "cell_type": "code",
      "metadata": {
        "colab": {
          "base_uri": "https://localhost:8080/"
        },
        "id": "1EB2X0FMEK_z",
        "outputId": "e0e92447-d32e-4095-f103-445f14b65ca6"
      },
      "source": [
        "# Check the number of occurrences for each station\r\n",
        "station_occurences = available_stations.id.value_counts(ascending=False)\r\n",
        "station_occurences"
      ],
      "execution_count": 49,
      "outputs": [
        {
          "output_type": "execute_result",
          "data": {
            "text/plain": [
              "paris-portedemontrouge-8     13\n",
              "paris-courcelles-69          11\n",
              "paris-voltaire-182           11\n",
              "paris-mathis-35              11\n",
              "paris-philippeauguste-126    11\n",
              "                             ..\n",
              "paris-murat-157               1\n",
              "paris-portepouchet-6          1\n",
              "paris-pastourelle-27          1\n",
              "paris-claudedecaen-26         1\n",
              "paris-pauldoumer-72           1\n",
              "Name: id, Length: 567, dtype: int64"
            ]
          },
          "metadata": {
            "tags": []
          },
          "execution_count": 49
        }
      ]
    },
    {
      "cell_type": "code",
      "metadata": {
        "colab": {
          "base_uri": "https://localhost:8080/",
          "height": 408
        },
        "id": "Elp4JyGYETMP",
        "outputId": "d7cef2d4-52ab-4083-8b39-9eadec66cacd"
      },
      "source": [
        "# Get names of stations that occur more than once to gain only the relevant stations\r\n",
        "stations_active = station_occurences[station_occurences > 1 ].index.tolist()\r\n",
        "# Filtering dataframe to contain only active stations\r\n",
        "available_stations = available_stations[available_stations['id'].isin(stations_active)]\r\n",
        "available_stations.head()"
      ],
      "execution_count": 51,
      "outputs": [
        {
          "output_type": "execute_result",
          "data": {
            "text/html": [
              "<div>\n",
              "<style scoped>\n",
              "    .dataframe tbody tr th:only-of-type {\n",
              "        vertical-align: middle;\n",
              "    }\n",
              "\n",
              "    .dataframe tbody tr th {\n",
              "        vertical-align: top;\n",
              "    }\n",
              "\n",
              "    .dataframe thead th {\n",
              "        text-align: right;\n",
              "    }\n",
              "</style>\n",
              "<table border=\"1\" class=\"dataframe\">\n",
              "  <thead>\n",
              "    <tr style=\"text-align: right;\">\n",
              "      <th></th>\n",
              "      <th>address</th>\n",
              "      <th>cars</th>\n",
              "      <th>bluecar_counter</th>\n",
              "      <th>utilib_counter</th>\n",
              "      <th>utilib_1.4_counter</th>\n",
              "      <th>charge_slots</th>\n",
              "      <th>charging_status</th>\n",
              "      <th>city</th>\n",
              "      <th>id</th>\n",
              "      <th>kind</th>\n",
              "      <th>geo_point</th>\n",
              "      <th>postal_code</th>\n",
              "      <th>public_name</th>\n",
              "      <th>rental_status</th>\n",
              "      <th>slots</th>\n",
              "      <th>station_type</th>\n",
              "      <th>status</th>\n",
              "      <th>subscription_status</th>\n",
              "      <th>year</th>\n",
              "      <th>month</th>\n",
              "      <th>day</th>\n",
              "      <th>hour</th>\n",
              "      <th>minute</th>\n",
              "      <th>date</th>\n",
              "      <th>time</th>\n",
              "      <th>datetime</th>\n",
              "    </tr>\n",
              "  </thead>\n",
              "  <tbody>\n",
              "    <tr>\n",
              "      <th>0</th>\n",
              "      <td>2 Avenue de Suffren</td>\n",
              "      <td>0</td>\n",
              "      <td>0</td>\n",
              "      <td>0</td>\n",
              "      <td>0</td>\n",
              "      <td>0</td>\n",
              "      <td>nonexistent</td>\n",
              "      <td>Paris</td>\n",
              "      <td>paris-suffren-2</td>\n",
              "      <td>STATION</td>\n",
              "      <td>48.857, 2.2917</td>\n",
              "      <td>75015</td>\n",
              "      <td>Paris/Suffren/2</td>\n",
              "      <td>operational</td>\n",
              "      <td>2</td>\n",
              "      <td>station</td>\n",
              "      <td>ok</td>\n",
              "      <td>nonexistent</td>\n",
              "      <td>2018</td>\n",
              "      <td>4</td>\n",
              "      <td>8</td>\n",
              "      <td>11</td>\n",
              "      <td>43</td>\n",
              "      <td>2018/4/8</td>\n",
              "      <td>11:43</td>\n",
              "      <td>2018-04-08 11:43:00</td>\n",
              "    </tr>\n",
              "    <tr>\n",
              "      <th>1</th>\n",
              "      <td>145 Rue Raymond Losserand</td>\n",
              "      <td>6</td>\n",
              "      <td>6</td>\n",
              "      <td>0</td>\n",
              "      <td>0</td>\n",
              "      <td>0</td>\n",
              "      <td>operational</td>\n",
              "      <td>Paris</td>\n",
              "      <td>paris-raymondlosserand-145</td>\n",
              "      <td>STATION</td>\n",
              "      <td>48.83126, 2.313088</td>\n",
              "      <td>75014</td>\n",
              "      <td>Paris/Raymond Losserand/145</td>\n",
              "      <td>operational</td>\n",
              "      <td>0</td>\n",
              "      <td>station</td>\n",
              "      <td>ok</td>\n",
              "      <td>nonexistent</td>\n",
              "      <td>2018</td>\n",
              "      <td>4</td>\n",
              "      <td>6</td>\n",
              "      <td>7</td>\n",
              "      <td>24</td>\n",
              "      <td>2018/4/6</td>\n",
              "      <td>7:24</td>\n",
              "      <td>2018-04-06 07:24:00</td>\n",
              "    </tr>\n",
              "    <tr>\n",
              "      <th>3</th>\n",
              "      <td>51 Rue EugÃ¨ne OudinÃ©</td>\n",
              "      <td>3</td>\n",
              "      <td>3</td>\n",
              "      <td>1</td>\n",
              "      <td>0</td>\n",
              "      <td>1</td>\n",
              "      <td>operational</td>\n",
              "      <td>Paris</td>\n",
              "      <td>paris-eugeneoudine-51</td>\n",
              "      <td>STATION</td>\n",
              "      <td>48.8250327, 2.3725162</td>\n",
              "      <td>75013</td>\n",
              "      <td>Paris/EugÃ¨ne OudinÃ©/51</td>\n",
              "      <td>operational</td>\n",
              "      <td>2</td>\n",
              "      <td>station</td>\n",
              "      <td>ok</td>\n",
              "      <td>nonexistent</td>\n",
              "      <td>2018</td>\n",
              "      <td>4</td>\n",
              "      <td>4</td>\n",
              "      <td>4</td>\n",
              "      <td>37</td>\n",
              "      <td>2018/4/4</td>\n",
              "      <td>4:37</td>\n",
              "      <td>2018-04-04 04:37:00</td>\n",
              "    </tr>\n",
              "    <tr>\n",
              "      <th>4</th>\n",
              "      <td>6 avenue de la Porte de Champerret</td>\n",
              "      <td>3</td>\n",
              "      <td>3</td>\n",
              "      <td>0</td>\n",
              "      <td>0</td>\n",
              "      <td>0</td>\n",
              "      <td>nonexistent</td>\n",
              "      <td>Paris</td>\n",
              "      <td>paris-portedechamperret-6</td>\n",
              "      <td>PARKING</td>\n",
              "      <td>48.8862632, 2.2874511</td>\n",
              "      <td>75017</td>\n",
              "      <td>Paris/Porte de Champerret/6</td>\n",
              "      <td>operational</td>\n",
              "      <td>3</td>\n",
              "      <td>station</td>\n",
              "      <td>ok</td>\n",
              "      <td>nonexistent</td>\n",
              "      <td>2018</td>\n",
              "      <td>4</td>\n",
              "      <td>8</td>\n",
              "      <td>17</td>\n",
              "      <td>23</td>\n",
              "      <td>2018/4/8</td>\n",
              "      <td>17:23</td>\n",
              "      <td>2018-04-08 17:23:00</td>\n",
              "    </tr>\n",
              "    <tr>\n",
              "      <th>5</th>\n",
              "      <td>8 Boulevard Voltaire</td>\n",
              "      <td>0</td>\n",
              "      <td>0</td>\n",
              "      <td>0</td>\n",
              "      <td>0</td>\n",
              "      <td>0</td>\n",
              "      <td>nonexistent</td>\n",
              "      <td>Paris</td>\n",
              "      <td>paris-voltaire-8</td>\n",
              "      <td>STATION</td>\n",
              "      <td>48.8657658, 2.3664376</td>\n",
              "      <td>75011</td>\n",
              "      <td>Paris/Voltaire/8</td>\n",
              "      <td>operational</td>\n",
              "      <td>4</td>\n",
              "      <td>station</td>\n",
              "      <td>ok</td>\n",
              "      <td>nonexistent</td>\n",
              "      <td>2018</td>\n",
              "      <td>4</td>\n",
              "      <td>6</td>\n",
              "      <td>7</td>\n",
              "      <td>2</td>\n",
              "      <td>2018/4/6</td>\n",
              "      <td>7:2</td>\n",
              "      <td>2018-04-06 07:02:00</td>\n",
              "    </tr>\n",
              "  </tbody>\n",
              "</table>\n",
              "</div>"
            ],
            "text/plain": [
              "                              address  cars  ...   time            datetime\n",
              "0                 2 Avenue de Suffren     0  ...  11:43 2018-04-08 11:43:00\n",
              "1           145 Rue Raymond Losserand     6  ...   7:24 2018-04-06 07:24:00\n",
              "3              51 Rue EugÃ¨ne OudinÃ©     3  ...   4:37 2018-04-04 04:37:00\n",
              "4  6 avenue de la Porte de Champerret     3  ...  17:23 2018-04-08 17:23:00\n",
              "5                8 Boulevard Voltaire     0  ...    7:2 2018-04-06 07:02:00\n",
              "\n",
              "[5 rows x 26 columns]"
            ]
          },
          "metadata": {
            "tags": []
          },
          "execution_count": 51
        }
      ]
    },
    {
      "cell_type": "code",
      "metadata": {
        "colab": {
          "base_uri": "https://localhost:8080/",
          "height": 198
        },
        "id": "ypcx93S6EvXp",
        "outputId": "ccfafd7e-f6db-4755-bd72-2c4332112def"
      },
      "source": [
        "# Create dataframe with blue car data\r\n",
        "blue_car_flow = available_stations[['postal_code','bluecar_counter','id','datetime']]\r\n",
        "# Sort data by id and datetime column\r\n",
        "blue_car_flow = blue_car_flow.sort_values(by=['id','datetime'])\r\n",
        "blue_car_flow.head()"
      ],
      "execution_count": 52,
      "outputs": [
        {
          "output_type": "execute_result",
          "data": {
            "text/html": [
              "<div>\n",
              "<style scoped>\n",
              "    .dataframe tbody tr th:only-of-type {\n",
              "        vertical-align: middle;\n",
              "    }\n",
              "\n",
              "    .dataframe tbody tr th {\n",
              "        vertical-align: top;\n",
              "    }\n",
              "\n",
              "    .dataframe thead th {\n",
              "        text-align: right;\n",
              "    }\n",
              "</style>\n",
              "<table border=\"1\" class=\"dataframe\">\n",
              "  <thead>\n",
              "    <tr style=\"text-align: right;\">\n",
              "      <th></th>\n",
              "      <th>postal_code</th>\n",
              "      <th>bluecar_counter</th>\n",
              "      <th>id</th>\n",
              "      <th>datetime</th>\n",
              "    </tr>\n",
              "  </thead>\n",
              "  <tbody>\n",
              "    <tr>\n",
              "      <th>710</th>\n",
              "      <td>75014</td>\n",
              "      <td>1</td>\n",
              "      <td>paris-25aout1944-8</td>\n",
              "      <td>2018-04-01 18:40:00</td>\n",
              "    </tr>\n",
              "    <tr>\n",
              "      <th>1891</th>\n",
              "      <td>75014</td>\n",
              "      <td>4</td>\n",
              "      <td>paris-25aout1944-8</td>\n",
              "      <td>2018-04-02 07:37:00</td>\n",
              "    </tr>\n",
              "    <tr>\n",
              "      <th>2312</th>\n",
              "      <td>75014</td>\n",
              "      <td>2</td>\n",
              "      <td>paris-25aout1944-8</td>\n",
              "      <td>2018-04-02 12:49:00</td>\n",
              "    </tr>\n",
              "    <tr>\n",
              "      <th>911</th>\n",
              "      <td>75014</td>\n",
              "      <td>3</td>\n",
              "      <td>paris-25aout1944-8</td>\n",
              "      <td>2018-04-04 03:10:00</td>\n",
              "    </tr>\n",
              "    <tr>\n",
              "      <th>4940</th>\n",
              "      <td>75014</td>\n",
              "      <td>1</td>\n",
              "      <td>paris-25aout1944-8</td>\n",
              "      <td>2018-04-04 18:48:00</td>\n",
              "    </tr>\n",
              "  </tbody>\n",
              "</table>\n",
              "</div>"
            ],
            "text/plain": [
              "      postal_code  bluecar_counter                  id            datetime\n",
              "710         75014                1  paris-25aout1944-8 2018-04-01 18:40:00\n",
              "1891        75014                4  paris-25aout1944-8 2018-04-02 07:37:00\n",
              "2312        75014                2  paris-25aout1944-8 2018-04-02 12:49:00\n",
              "911         75014                3  paris-25aout1944-8 2018-04-04 03:10:00\n",
              "4940        75014                1  paris-25aout1944-8 2018-04-04 18:48:00"
            ]
          },
          "metadata": {
            "tags": []
          },
          "execution_count": 52
        }
      ]
    },
    {
      "cell_type": "code",
      "metadata": {
        "colab": {
          "base_uri": "https://localhost:8080/",
          "height": 407
        },
        "id": "wyvE4AVrE5tZ",
        "outputId": "8c627295-eb9a-47be-97cf-de4528bc57db"
      },
      "source": [
        "# Create a column which constitutes difference in the rows\r\n",
        "blue_car_flow['diff'] = blue_car_flow.groupby(['id'])['bluecar_counter'].diff().fillna(0)\r\n",
        "blue_car_flow"
      ],
      "execution_count": 53,
      "outputs": [
        {
          "output_type": "execute_result",
          "data": {
            "text/html": [
              "<div>\n",
              "<style scoped>\n",
              "    .dataframe tbody tr th:only-of-type {\n",
              "        vertical-align: middle;\n",
              "    }\n",
              "\n",
              "    .dataframe tbody tr th {\n",
              "        vertical-align: top;\n",
              "    }\n",
              "\n",
              "    .dataframe thead th {\n",
              "        text-align: right;\n",
              "    }\n",
              "</style>\n",
              "<table border=\"1\" class=\"dataframe\">\n",
              "  <thead>\n",
              "    <tr style=\"text-align: right;\">\n",
              "      <th></th>\n",
              "      <th>postal_code</th>\n",
              "      <th>bluecar_counter</th>\n",
              "      <th>id</th>\n",
              "      <th>datetime</th>\n",
              "      <th>diff</th>\n",
              "    </tr>\n",
              "  </thead>\n",
              "  <tbody>\n",
              "    <tr>\n",
              "      <th>710</th>\n",
              "      <td>75014</td>\n",
              "      <td>1</td>\n",
              "      <td>paris-25aout1944-8</td>\n",
              "      <td>2018-04-01 18:40:00</td>\n",
              "      <td>0.0</td>\n",
              "    </tr>\n",
              "    <tr>\n",
              "      <th>1891</th>\n",
              "      <td>75014</td>\n",
              "      <td>4</td>\n",
              "      <td>paris-25aout1944-8</td>\n",
              "      <td>2018-04-02 07:37:00</td>\n",
              "      <td>3.0</td>\n",
              "    </tr>\n",
              "    <tr>\n",
              "      <th>2312</th>\n",
              "      <td>75014</td>\n",
              "      <td>2</td>\n",
              "      <td>paris-25aout1944-8</td>\n",
              "      <td>2018-04-02 12:49:00</td>\n",
              "      <td>-2.0</td>\n",
              "    </tr>\n",
              "    <tr>\n",
              "      <th>911</th>\n",
              "      <td>75014</td>\n",
              "      <td>3</td>\n",
              "      <td>paris-25aout1944-8</td>\n",
              "      <td>2018-04-04 03:10:00</td>\n",
              "      <td>1.0</td>\n",
              "    </tr>\n",
              "    <tr>\n",
              "      <th>4940</th>\n",
              "      <td>75014</td>\n",
              "      <td>1</td>\n",
              "      <td>paris-25aout1944-8</td>\n",
              "      <td>2018-04-04 18:48:00</td>\n",
              "      <td>-2.0</td>\n",
              "    </tr>\n",
              "    <tr>\n",
              "      <th>...</th>\n",
              "      <td>...</td>\n",
              "      <td>...</td>\n",
              "      <td>...</td>\n",
              "      <td>...</td>\n",
              "      <td>...</td>\n",
              "    </tr>\n",
              "    <tr>\n",
              "      <th>3622</th>\n",
              "      <td>75013</td>\n",
              "      <td>3</td>\n",
              "      <td>paris-vulpian-24</td>\n",
              "      <td>2018-04-08 22:24:00</td>\n",
              "      <td>2.0</td>\n",
              "    </tr>\n",
              "    <tr>\n",
              "      <th>2110</th>\n",
              "      <td>75013</td>\n",
              "      <td>1</td>\n",
              "      <td>paris-vulpian-24</td>\n",
              "      <td>2018-04-09 12:58:00</td>\n",
              "      <td>-2.0</td>\n",
              "    </tr>\n",
              "    <tr>\n",
              "      <th>3055</th>\n",
              "      <td>75013</td>\n",
              "      <td>2</td>\n",
              "      <td>paris-vulpian-24</td>\n",
              "      <td>2018-04-09 23:32:00</td>\n",
              "      <td>1.0</td>\n",
              "    </tr>\n",
              "    <tr>\n",
              "      <th>2329</th>\n",
              "      <td>75017</td>\n",
              "      <td>0</td>\n",
              "      <td>paris-wagram-77</td>\n",
              "      <td>2018-04-05 20:24:00</td>\n",
              "      <td>0.0</td>\n",
              "    </tr>\n",
              "    <tr>\n",
              "      <th>546</th>\n",
              "      <td>75017</td>\n",
              "      <td>2</td>\n",
              "      <td>paris-wagram-77</td>\n",
              "      <td>2018-04-06 00:07:00</td>\n",
              "      <td>2.0</td>\n",
              "    </tr>\n",
              "  </tbody>\n",
              "</table>\n",
              "<p>2606 rows × 5 columns</p>\n",
              "</div>"
            ],
            "text/plain": [
              "      postal_code  bluecar_counter  ...            datetime diff\n",
              "710         75014                1  ... 2018-04-01 18:40:00  0.0\n",
              "1891        75014                4  ... 2018-04-02 07:37:00  3.0\n",
              "2312        75014                2  ... 2018-04-02 12:49:00 -2.0\n",
              "911         75014                3  ... 2018-04-04 03:10:00  1.0\n",
              "4940        75014                1  ... 2018-04-04 18:48:00 -2.0\n",
              "...           ...              ...  ...                 ...  ...\n",
              "3622        75013                3  ... 2018-04-08 22:24:00  2.0\n",
              "2110        75013                1  ... 2018-04-09 12:58:00 -2.0\n",
              "3055        75013                2  ... 2018-04-09 23:32:00  1.0\n",
              "2329        75017                0  ... 2018-04-05 20:24:00  0.0\n",
              "546         75017                2  ... 2018-04-06 00:07:00  2.0\n",
              "\n",
              "[2606 rows x 5 columns]"
            ]
          },
          "metadata": {
            "tags": []
          },
          "execution_count": 53
        }
      ]
    },
    {
      "cell_type": "code",
      "metadata": {
        "colab": {
          "base_uri": "https://localhost:8080/",
          "height": 198
        },
        "id": "nHZw0opyFEKK",
        "outputId": "5ee1dc2a-510e-4db1-bcfe-67e1c74291b5"
      },
      "source": [
        "# Create a hour variable\r\n",
        "blue_car_flow['hour'] = blue_car_flow.datetime.dt.hour\r\n",
        "# Create a pickups only dataframe\r\n",
        "bluecar_pickups = blue_car_flow[blue_car_flow['diff'] < 0]\r\n",
        "bluecar_pickups.head()"
      ],
      "execution_count": 54,
      "outputs": [
        {
          "output_type": "execute_result",
          "data": {
            "text/html": [
              "<div>\n",
              "<style scoped>\n",
              "    .dataframe tbody tr th:only-of-type {\n",
              "        vertical-align: middle;\n",
              "    }\n",
              "\n",
              "    .dataframe tbody tr th {\n",
              "        vertical-align: top;\n",
              "    }\n",
              "\n",
              "    .dataframe thead th {\n",
              "        text-align: right;\n",
              "    }\n",
              "</style>\n",
              "<table border=\"1\" class=\"dataframe\">\n",
              "  <thead>\n",
              "    <tr style=\"text-align: right;\">\n",
              "      <th></th>\n",
              "      <th>postal_code</th>\n",
              "      <th>bluecar_counter</th>\n",
              "      <th>id</th>\n",
              "      <th>datetime</th>\n",
              "      <th>diff</th>\n",
              "      <th>hour</th>\n",
              "    </tr>\n",
              "  </thead>\n",
              "  <tbody>\n",
              "    <tr>\n",
              "      <th>2312</th>\n",
              "      <td>75014</td>\n",
              "      <td>2</td>\n",
              "      <td>paris-25aout1944-8</td>\n",
              "      <td>2018-04-02 12:49:00</td>\n",
              "      <td>-2.0</td>\n",
              "      <td>12</td>\n",
              "    </tr>\n",
              "    <tr>\n",
              "      <th>4940</th>\n",
              "      <td>75014</td>\n",
              "      <td>1</td>\n",
              "      <td>paris-25aout1944-8</td>\n",
              "      <td>2018-04-04 18:48:00</td>\n",
              "      <td>-2.0</td>\n",
              "      <td>18</td>\n",
              "    </tr>\n",
              "    <tr>\n",
              "      <th>2848</th>\n",
              "      <td>75014</td>\n",
              "      <td>0</td>\n",
              "      <td>paris-25aout1944-8</td>\n",
              "      <td>2018-04-09 05:23:00</td>\n",
              "      <td>-1.0</td>\n",
              "      <td>5</td>\n",
              "    </tr>\n",
              "    <tr>\n",
              "      <th>294</th>\n",
              "      <td>75009</td>\n",
              "      <td>0</td>\n",
              "      <td>paris-adolphemax-6</td>\n",
              "      <td>2018-04-07 16:47:00</td>\n",
              "      <td>-4.0</td>\n",
              "      <td>16</td>\n",
              "    </tr>\n",
              "    <tr>\n",
              "      <th>2738</th>\n",
              "      <td>75019</td>\n",
              "      <td>2</td>\n",
              "      <td>paris-adolphemille-8</td>\n",
              "      <td>2018-04-04 18:23:00</td>\n",
              "      <td>-2.0</td>\n",
              "      <td>18</td>\n",
              "    </tr>\n",
              "  </tbody>\n",
              "</table>\n",
              "</div>"
            ],
            "text/plain": [
              "      postal_code  bluecar_counter  ... diff hour\n",
              "2312        75014                2  ... -2.0   12\n",
              "4940        75014                1  ... -2.0   18\n",
              "2848        75014                0  ... -1.0    5\n",
              "294         75009                0  ... -4.0   16\n",
              "2738        75019                2  ... -2.0   18\n",
              "\n",
              "[5 rows x 6 columns]"
            ]
          },
          "metadata": {
            "tags": []
          },
          "execution_count": 54
        }
      ]
    },
    {
      "cell_type": "code",
      "metadata": {
        "colab": {
          "base_uri": "https://localhost:8080/"
        },
        "id": "VHIVB9NuFPYp",
        "outputId": "a5432d38-f35f-48ef-fed9-03c8c557a4b6"
      },
      "source": [
        "# Getting the shape of the pickups data frame\r\n",
        "bluecar_pickups.shape"
      ],
      "execution_count": 55,
      "outputs": [
        {
          "output_type": "execute_result",
          "data": {
            "text/plain": [
              "(758, 6)"
            ]
          },
          "metadata": {
            "tags": []
          },
          "execution_count": 55
        }
      ]
    },
    {
      "cell_type": "code",
      "metadata": {
        "colab": {
          "base_uri": "https://localhost:8080/"
        },
        "id": "tI0m6ZtoFcdj",
        "outputId": "13a875b7-ff42-4803-e5d1-2b650525a844"
      },
      "source": [
        "# To get the most popular hour\r\n",
        "bluecar_pickups.hour.value_counts().sort_values(ascending=False)"
      ],
      "execution_count": 56,
      "outputs": [
        {
          "output_type": "execute_result",
          "data": {
            "text/plain": [
              "21    44\n",
              "17    41\n",
              "16    39\n",
              "10    39\n",
              "23    37\n",
              "8     37\n",
              "18    37\n",
              "22    36\n",
              "15    36\n",
              "20    35\n",
              "11    32\n",
              "3     31\n",
              "2     30\n",
              "4     29\n",
              "12    28\n",
              "5     28\n",
              "1     28\n",
              "7     27\n",
              "6     27\n",
              "14    26\n",
              "19    26\n",
              "13    25\n",
              "0     23\n",
              "9     17\n",
              "Name: hour, dtype: int64"
            ]
          },
          "metadata": {
            "tags": []
          },
          "execution_count": 56
        }
      ]
    },
    {
      "cell_type": "code",
      "metadata": {
        "colab": {
          "base_uri": "https://localhost:8080/",
          "height": 520
        },
        "id": "xRPqA6vyFgeL",
        "outputId": "38b53a32-9d28-4957-fe67-b2bea52e0f98"
      },
      "source": [
        "# Plotting a bar chart for the frequency per hour of the day\r\n",
        "sns.set(style='whitegrid')\r\n",
        "y_ax =  bluecar_pickups.hour.value_counts().sort_values(ascending=False)\r\n",
        "x_ax =  y_ax.index\r\n",
        "frequency = plt.figure()\r\n",
        "sns.barplot(x= x_ax, y= y_ax, palette='pastel')\r\n",
        "plt.xlabel('Hour of the day')\r\n",
        "plt.ylabel('Pickup Frequency')\r\n",
        "plt.title('Pickup frequency per hour of the day',fontdict={'fontsize':15})\r\n",
        "plt.savefig(\"frequency.png\")\r\n",
        "files.download('frequency.png')"
      ],
      "execution_count": 59,
      "outputs": [
        {
          "output_type": "display_data",
          "data": {
            "application/javascript": [
              "\n",
              "    async function download(id, filename, size) {\n",
              "      if (!google.colab.kernel.accessAllowed) {\n",
              "        return;\n",
              "      }\n",
              "      const div = document.createElement('div');\n",
              "      const label = document.createElement('label');\n",
              "      label.textContent = `Downloading \"${filename}\": `;\n",
              "      div.appendChild(label);\n",
              "      const progress = document.createElement('progress');\n",
              "      progress.max = size;\n",
              "      div.appendChild(progress);\n",
              "      document.body.appendChild(div);\n",
              "\n",
              "      const buffers = [];\n",
              "      let downloaded = 0;\n",
              "\n",
              "      const channel = await google.colab.kernel.comms.open(id);\n",
              "      // Send a message to notify the kernel that we're ready.\n",
              "      channel.send({})\n",
              "\n",
              "      for await (const message of channel.messages) {\n",
              "        // Send a message to notify the kernel that we're ready.\n",
              "        channel.send({})\n",
              "        if (message.buffers) {\n",
              "          for (const buffer of message.buffers) {\n",
              "            buffers.push(buffer);\n",
              "            downloaded += buffer.byteLength;\n",
              "            progress.value = downloaded;\n",
              "          }\n",
              "        }\n",
              "      }\n",
              "      const blob = new Blob(buffers, {type: 'application/binary'});\n",
              "      const a = document.createElement('a');\n",
              "      a.href = window.URL.createObjectURL(blob);\n",
              "      a.download = filename;\n",
              "      div.appendChild(a);\n",
              "      a.click();\n",
              "      div.remove();\n",
              "    }\n",
              "  "
            ],
            "text/plain": [
              "<IPython.core.display.Javascript object>"
            ]
          },
          "metadata": {
            "tags": []
          }
        },
        {
          "output_type": "display_data",
          "data": {
            "application/javascript": [
              "download(\"download_5f523703-243a-4071-ae3b-f1ad649be3c9\", \"frequency.png\", 17120)"
            ],
            "text/plain": [
              "<IPython.core.display.Javascript object>"
            ]
          },
          "metadata": {
            "tags": []
          }
        },
        {
          "output_type": "display_data",
          "data": {
            "image/png": "[encoded data removed]",
            "text/plain": [
              "<Figure size 720x576 with 1 Axes>"
            ]
          },
          "metadata": {
            "tags": []
          }
        }
      ]
    },
    {
      "cell_type": "code",
      "metadata": {
        "colab": {
          "base_uri": "https://localhost:8080/",
          "height": 198
        },
        "id": "UHDiWbQTFqbN",
        "outputId": "95a0cf54-964a-4ce1-ae7b-e4d28595eb46"
      },
      "source": [
        "#From the graph above, most pickups occur at 9:00 pm - 10:00 pm\r\n",
        "# Create dataframe consisting of only drop offs\r\n",
        "bluecar_dropoffs = blue_car_flow[blue_car_flow['diff'] > 0]\r\n",
        "bluecar_dropoffs.head()"
      ],
      "execution_count": 60,
      "outputs": [
        {
          "output_type": "execute_result",
          "data": {
            "text/html": [
              "<div>\n",
              "<style scoped>\n",
              "    .dataframe tbody tr th:only-of-type {\n",
              "        vertical-align: middle;\n",
              "    }\n",
              "\n",
              "    .dataframe tbody tr th {\n",
              "        vertical-align: top;\n",
              "    }\n",
              "\n",
              "    .dataframe thead th {\n",
              "        text-align: right;\n",
              "    }\n",
              "</style>\n",
              "<table border=\"1\" class=\"dataframe\">\n",
              "  <thead>\n",
              "    <tr style=\"text-align: right;\">\n",
              "      <th></th>\n",
              "      <th>postal_code</th>\n",
              "      <th>bluecar_counter</th>\n",
              "      <th>id</th>\n",
              "      <th>datetime</th>\n",
              "      <th>diff</th>\n",
              "      <th>hour</th>\n",
              "    </tr>\n",
              "  </thead>\n",
              "  <tbody>\n",
              "    <tr>\n",
              "      <th>1891</th>\n",
              "      <td>75014</td>\n",
              "      <td>4</td>\n",
              "      <td>paris-25aout1944-8</td>\n",
              "      <td>2018-04-02 07:37:00</td>\n",
              "      <td>3.0</td>\n",
              "      <td>7</td>\n",
              "    </tr>\n",
              "    <tr>\n",
              "      <th>911</th>\n",
              "      <td>75014</td>\n",
              "      <td>3</td>\n",
              "      <td>paris-25aout1944-8</td>\n",
              "      <td>2018-04-04 03:10:00</td>\n",
              "      <td>1.0</td>\n",
              "      <td>3</td>\n",
              "    </tr>\n",
              "    <tr>\n",
              "      <th>586</th>\n",
              "      <td>75014</td>\n",
              "      <td>1</td>\n",
              "      <td>paris-25aout1944-8</td>\n",
              "      <td>2018-04-09 20:53:00</td>\n",
              "      <td>1.0</td>\n",
              "      <td>20</td>\n",
              "    </tr>\n",
              "    <tr>\n",
              "      <th>1424</th>\n",
              "      <td>75019</td>\n",
              "      <td>2</td>\n",
              "      <td>paris-adolphemille-8</td>\n",
              "      <td>2018-04-03 12:25:00</td>\n",
              "      <td>1.0</td>\n",
              "      <td>12</td>\n",
              "    </tr>\n",
              "    <tr>\n",
              "      <th>4343</th>\n",
              "      <td>75019</td>\n",
              "      <td>4</td>\n",
              "      <td>paris-adolphemille-8</td>\n",
              "      <td>2018-04-03 21:53:00</td>\n",
              "      <td>2.0</td>\n",
              "      <td>21</td>\n",
              "    </tr>\n",
              "  </tbody>\n",
              "</table>\n",
              "</div>"
            ],
            "text/plain": [
              "      postal_code  bluecar_counter  ... diff hour\n",
              "1891        75014                4  ...  3.0    7\n",
              "911         75014                3  ...  1.0    3\n",
              "586         75014                1  ...  1.0   20\n",
              "1424        75019                2  ...  1.0   12\n",
              "4343        75019                4  ...  2.0   21\n",
              "\n",
              "[5 rows x 6 columns]"
            ]
          },
          "metadata": {
            "tags": []
          },
          "execution_count": 60
        }
      ]
    },
    {
      "cell_type": "code",
      "metadata": {
        "colab": {
          "base_uri": "https://localhost:8080/",
          "height": 520
        },
        "id": "TSGVFyBNGAhj",
        "outputId": "e0d2fcc6-2945-4db1-fc3a-567cfc398ae8"
      },
      "source": [
        "# Determine most popular hour for dropoffs\r\n",
        "bluecar_dropoffs.hour.value_counts().sort_values(ascending=False)\r\n",
        "# Plot dropoff frequency\r\n",
        "y_val = bluecar_dropoffs.hour.value_counts().sort_values(ascending=False)\r\n",
        "x_val = y_val.index\r\n",
        "sns.barplot(x = x_val, y=y_val, palette='pastel')\r\n",
        "plt.xlabel('Hour of the day')\r\n",
        "plt.ylabel('Dropoff frequency')\r\n",
        "plt.title('Dropoff frequency per hour of the day',fontdict={'fontsize':15})\r\n",
        "plt.savefig(\"dropoff.png\")\r\n",
        "files.download('dropoff.png')"
      ],
      "execution_count": 61,
      "outputs": [
        {
          "output_type": "display_data",
          "data": {
            "application/javascript": [
              "\n",
              "    async function download(id, filename, size) {\n",
              "      if (!google.colab.kernel.accessAllowed) {\n",
              "        return;\n",
              "      }\n",
              "      const div = document.createElement('div');\n",
              "      const label = document.createElement('label');\n",
              "      label.textContent = `Downloading \"${filename}\": `;\n",
              "      div.appendChild(label);\n",
              "      const progress = document.createElement('progress');\n",
              "      progress.max = size;\n",
              "      div.appendChild(progress);\n",
              "      document.body.appendChild(div);\n",
              "\n",
              "      const buffers = [];\n",
              "      let downloaded = 0;\n",
              "\n",
              "      const channel = await google.colab.kernel.comms.open(id);\n",
              "      // Send a message to notify the kernel that we're ready.\n",
              "      channel.send({})\n",
              "\n",
              "      for await (const message of channel.messages) {\n",
              "        // Send a message to notify the kernel that we're ready.\n",
              "        channel.send({})\n",
              "        if (message.buffers) {\n",
              "          for (const buffer of message.buffers) {\n",
              "            buffers.push(buffer);\n",
              "            downloaded += buffer.byteLength;\n",
              "            progress.value = downloaded;\n",
              "          }\n",
              "        }\n",
              "      }\n",
              "      const blob = new Blob(buffers, {type: 'application/binary'});\n",
              "      const a = document.createElement('a');\n",
              "      a.href = window.URL.createObjectURL(blob);\n",
              "      a.download = filename;\n",
              "      div.appendChild(a);\n",
              "      a.click();\n",
              "      div.remove();\n",
              "    }\n",
              "  "
            ],
            "text/plain": [
              "<IPython.core.display.Javascript object>"
            ]
          },
          "metadata": {
            "tags": []
          }
        },
        {
          "output_type": "display_data",
          "data": {
            "application/javascript": [
              "download(\"download_30fdaab8-af0c-4fcd-8918-28cf3bd5bcfe\", \"dropoff.png\", 17658)"
            ],
            "text/plain": [
              "<IPython.core.display.Javascript object>"
            ]
          },
          "metadata": {
            "tags": []
          }
        },
        {
          "output_type": "display_data",
          "data": {
            "image/png": "[encoded data removed]",
            "text/plain": [
              "<Figure size 720x576 with 1 Axes>"
            ]
          },
          "metadata": {
            "tags": []
          }
        }
      ]
    },
    {
      "cell_type": "code",
      "metadata": {
        "colab": {
          "base_uri": "https://localhost:8080/",
          "height": 35
        },
        "id": "zyIHEk8pGNZv",
        "outputId": "8463b685-5ac2-4281-d088-4d1f0df8d45b"
      },
      "source": [
        "#Most drop offs occur between 12:00 - 1:00 pm\r\n",
        "#Determine the most popular station\r\n",
        "#Based on pickups\r\n",
        "popular_pickup = bluecar_pickups.id.value_counts().head(1).index[0]\r\n",
        "paris_df.loc[paris_df['id'] == popular_pickup ,'public_name'].iloc[0]"
      ],
      "execution_count": 62,
      "outputs": [
        {
          "output_type": "execute_result",
          "data": {
            "application/vnd.google.colaboratory.intrinsic+json": {
              "type": "string"
            },
            "text/plain": [
              "'Paris/Porte de Montrouge/8'"
            ]
          },
          "metadata": {
            "tags": []
          },
          "execution_count": 62
        }
      ]
    },
    {
      "cell_type": "code",
      "metadata": {
        "colab": {
          "base_uri": "https://localhost:8080/",
          "height": 35
        },
        "id": "gXQs7wGmGu_s",
        "outputId": "082a40c4-9ea5-4bda-ca6f-ffdaed3583e9"
      },
      "source": [
        "#Based on dropoffs\r\n",
        "popular_dropoff = bluecar_dropoffs.id.value_counts().head(1).index[0]\r\n",
        "paris_df.loc[paris_df['id'] == popular_dropoff,'public_name'].iloc[0]"
      ],
      "execution_count": 63,
      "outputs": [
        {
          "output_type": "execute_result",
          "data": {
            "application/vnd.google.colaboratory.intrinsic+json": {
              "type": "string"
            },
            "text/plain": [
              "'Paris/Voltaire/182'"
            ]
          },
          "metadata": {
            "tags": []
          },
          "execution_count": 63
        }
      ]
    },
    {
      "cell_type": "code",
      "metadata": {
        "colab": {
          "base_uri": "https://localhost:8080/",
          "height": 35
        },
        "id": "SRCRYmOuG2Ar",
        "outputId": "fc2a5c29-2155-465e-c3a9-1d6b45ecef9b"
      },
      "source": [
        "#Based on both pickups and dropoffs\r\n",
        "paris_df.public_name.value_counts().index[0]"
      ],
      "execution_count": 64,
      "outputs": [
        {
          "output_type": "execute_result",
          "data": {
            "application/vnd.google.colaboratory.intrinsic+json": {
              "type": "string"
            },
            "text/plain": [
              "'Paris/Porte de Montrouge/8'"
            ]
          },
          "metadata": {
            "tags": []
          },
          "execution_count": 64
        }
      ]
    },
    {
      "cell_type": "code",
      "metadata": {
        "colab": {
          "base_uri": "https://localhost:8080/"
        },
        "id": "aGQVAg18G5y4",
        "outputId": "f0b8ef10-bbd9-464c-c6c5-74d275a1f3e8"
      },
      "source": [
        "# Determine most popular station at pickup hour\r\n",
        "bluecar_pickups[bluecar_pickups.hour == 21]['id'].value_counts()"
      ],
      "execution_count": 65,
      "outputs": [
        {
          "output_type": "execute_result",
          "data": {
            "text/plain": [
              "paris-mozart-68                   2\n",
              "paris-hopital-47                  2\n",
              "paris-goubet-8                    1\n",
              "paris-danton-8                    1\n",
              "paris-victoire-76                 1\n",
              "paris-voltaire-182                1\n",
              "paris-berri-10                    1\n",
              "paris-theophilegauthier-14        1\n",
              "paris-marceau-59                  1\n",
              "paris-fabredeglantine-2           1\n",
              "paris-batignolles-27              1\n",
              "paris-tronchet-19                 1\n",
              "paris-jouffroydabbans-14          1\n",
              "paris-ternes-parking              1\n",
              "paris-pernety-46                  1\n",
              "paris-boulard-1                   1\n",
              "paris-victorhugo-93               1\n",
              "paris-parmentier-125              1\n",
              "paris-lorraine-22                 1\n",
              "paris-picpus-122                  1\n",
              "paris-duroc-2                     1\n",
              "paris-segur-55                    1\n",
              "paris-tolbiac-189                 1\n",
              "paris-daviddangers-54             1\n",
              "paris-jeannedarc-157              1\n",
              "paris-faubourgsaintantoine-199    1\n",
              "paris-portedaubervilliers-10      1\n",
              "paris-caillaux-24                 1\n",
              "paris-arago-99                    1\n",
              "paris-olivierdeserres-3           1\n",
              "paris-ramey-62                    1\n",
              "paris-balard-108                  1\n",
              "paris-molitor-16                  1\n",
              "paris-constantine-25              1\n",
              "paris-saintmande-94               1\n",
              "paris-jeanmoulin-34               1\n",
              "paris-lafayette-56                1\n",
              "paris-didot-41                    1\n",
              "paris-bremontier-19               1\n",
              "paris-pereire-170                 1\n",
              "paris-couronnes-2                 1\n",
              "paris-reuilly-116                 1\n",
              "Name: id, dtype: int64"
            ]
          },
          "metadata": {
            "tags": []
          },
          "execution_count": 65
        }
      ]
    },
    {
      "cell_type": "code",
      "metadata": {
        "colab": {
          "base_uri": "https://localhost:8080/",
          "height": 35
        },
        "id": "YjFi634RHALs",
        "outputId": "8f3d30b5-5c4a-4a6f-cb18-feebf56b0e45"
      },
      "source": [
        "# Getting the station names\r\n",
        "paris_df.loc[paris_df.id == 'paris-hopital-47','public_name'].iloc[0]"
      ],
      "execution_count": 66,
      "outputs": [
        {
          "output_type": "execute_result",
          "data": {
            "application/vnd.google.colaboratory.intrinsic+json": {
              "type": "string"
            },
            "text/plain": [
              "'Paris/HÃ´pital/47'"
            ]
          },
          "metadata": {
            "tags": []
          },
          "execution_count": 66
        }
      ]
    },
    {
      "cell_type": "code",
      "metadata": {
        "colab": {
          "base_uri": "https://localhost:8080/",
          "height": 35
        },
        "id": "VUD129ZlHG2S",
        "outputId": "1ed133b0-372d-4ba3-c52a-b68d45a02827"
      },
      "source": [
        "paris_df.loc[paris_df.id == 'paris-mozart-68','public_name'].iloc[0]"
      ],
      "execution_count": 67,
      "outputs": [
        {
          "output_type": "execute_result",
          "data": {
            "application/vnd.google.colaboratory.intrinsic+json": {
              "type": "string"
            },
            "text/plain": [
              "'Paris/Mozart/68'"
            ]
          },
          "metadata": {
            "tags": []
          },
          "execution_count": 67
        }
      ]
    },
    {
      "cell_type": "code",
      "metadata": {
        "colab": {
          "base_uri": "https://localhost:8080/"
        },
        "id": "cfsByv7pHMMM",
        "outputId": "5bbc998c-c424-4930-8a41-ae025ef31ff0"
      },
      "source": [
        "# Determine most popular postcode for picking up blue cars\r\n",
        "bluecar_pickups.postal_code.value_counts().index[0]"
      ],
      "execution_count": 68,
      "outputs": [
        {
          "output_type": "execute_result",
          "data": {
            "text/plain": [
              "75015"
            ]
          },
          "metadata": {
            "tags": []
          },
          "execution_count": 68
        }
      ]
    },
    {
      "cell_type": "code",
      "metadata": {
        "id": "SqcG-VAqHTW-",
        "colab": {
          "base_uri": "https://localhost:8080/"
        },
        "outputId": "bb2e052e-92df-4c89-8241-ddd90f203001"
      },
      "source": [
        "#Get stations that belong to most popular postal code\r\n",
        "postalcode_stations = paris_df.loc[paris_df.postal_code == 75015, 'id'].unique()\r\n",
        "postalcode_stations"
      ],
      "execution_count": 73,
      "outputs": [
        {
          "output_type": "execute_result",
          "data": {
            "text/plain": [
              "array(['paris-suffren-2', 'paris-citroencevennes-parking',\n",
              "       'paris-cambronne-parking', 'paris-miollis-21',\n",
              "       'paris-colonelpierreavia-1', 'paris-convention-171',\n",
              "       'paris-emilezola-6', 'paris-gerbert-11', 'paris-grenelle-139',\n",
              "       'paris-vaugirard-20', 'paris-balard-108', 'paris-dantzig-80',\n",
              "       'paris-olier-15', 'paris-emilezola-65', 'paris-paulbarruel-44',\n",
              "       'paris-houdartdelamotte-2', 'paris-grenelle31-parking',\n",
              "       'paris-commerce-5', 'paris-lacordaire-56', 'paris-grenelle-37',\n",
              "       'paris-croixnivert-192', 'paris-leblanc-19', 'paris-vouille-47',\n",
              "       'paris-suffren-78', 'paris-suffren-44', 'paris-jeansicard-1',\n",
              "       'paris-vaugirard-230', 'paris-convention-75', 'paris-pasteur-41',\n",
              "       'paris-pasteurmontparnasse-parking', 'paris-balard-18',\n",
              "       'paris-mademoiselle-22', 'paris-emilezola-143',\n",
              "       'paris-garibaldicambronne-parking', 'paris-maine-4',\n",
              "       'paris-felixfaure-109', 'paris-morillons-95',\n",
              "       'paris-lecourbemairieduxveme-parking', 'paris-cotentin-29',\n",
              "       'paris-arrivee-16', 'paris-beaugrenelle-4', 'paris-lourmel-33',\n",
              "       'paris-sebastienmercier-44', 'paris-lourmel-79',\n",
              "       'paris-pasteur2-parking', 'paris-suffren-161',\n",
              "       'paris-emileduclaux-19', 'paris-olivierdeserres-3',\n",
              "       'paris-etiennepernet-26', 'paris-hericart-54', 'paris-lecourbe-63',\n",
              "       'paris-suffren-112', 'paris-lecourbe-178', 'paris-cronstadt-2',\n",
              "       'paris-docteurfinlay-43', 'paris-dantzig-37',\n",
              "       'paris-mademoiselle-67', 'paris-federation-10',\n",
              "       'paris-lecourbe-336', 'paris-vascodegama-74'], dtype=object)"
            ]
          },
          "metadata": {
            "tags": []
          },
          "execution_count": 73
        }
      ]
    },
    {
      "cell_type": "code",
      "metadata": {
        "colab": {
          "base_uri": "https://localhost:8080/"
        },
        "id": "TB3ei0QhHW1P",
        "outputId": "683215b5-32eb-42f0-b92d-40a62ad36e35"
      },
      "source": [
        "# Check if most popular station is in this postcode\r\n",
        "if \"Paris/Porte de Montrouge/8\" in postalcode_stations:\r\n",
        "  print(True)\r\n",
        "else:\r\n",
        "  print(False)"
      ],
      "execution_count": 71,
      "outputs": [
        {
          "output_type": "stream",
          "text": [
            "False\n"
          ],
          "name": "stdout"
        }
      ]
    },
    {
      "cell_type": "code",
      "metadata": {
        "colab": {
          "base_uri": "https://localhost:8080/"
        },
        "id": "7ab7QZi_HakR",
        "outputId": "a9d9e1b2-bdc0-46bf-d96f-24cd78cb3934"
      },
      "source": [
        "#Most popular postal code at the most popular picking hour\r\n",
        "bluecar_pickups[bluecar_pickups.hour == 21].postal_code.value_counts().index[0]"
      ],
      "execution_count": 72,
      "outputs": [
        {
          "output_type": "execute_result",
          "data": {
            "text/plain": [
              "75016"
            ]
          },
          "metadata": {
            "tags": []
          },
          "execution_count": 72
        }
      ]
    }
  ]
}